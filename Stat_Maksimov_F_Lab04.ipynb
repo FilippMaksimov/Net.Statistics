{
  "nbformat": 4,
  "nbformat_minor": 0,
  "metadata": {
    "colab": {
      "provenance": [],
      "authorship_tag": "ABX9TyMqVUArKCjxQ4/3T1W0tRwz",
      "include_colab_link": true
    },
    "kernelspec": {
      "name": "python3",
      "display_name": "Python 3"
    },
    "language_info": {
      "name": "python"
    }
  },
  "cells": [
    {
      "cell_type": "markdown",
      "metadata": {
        "id": "view-in-github",
        "colab_type": "text"
      },
      "source": [
        "<a href=\"https://colab.research.google.com/github/FilippMaksimov/Net.Statistics/blob/main/Stat_Maksimov_F_Lab04.ipynb\" target=\"_parent\"><img src=\"https://colab.research.google.com/assets/colab-badge.svg\" alt=\"Open In Colab\"/></a>"
      ]
    },
    {
      "cell_type": "markdown",
      "source": [
        "### Описание задачи\n",
        "\n",
        "![banner](https://storage.googleapis.com/kaggle-datasets-images/635/1204/126be74882028aac7241553cef0e27a7/dataset-original.jpg)\n",
        "\n",
        "Покемоны - это маленькие существа, которые сражаются друг с другом на соревнованиях. Все покемоны имеют разные характеристики (сила атаки, защиты и т. д.) И относятся к одному или двум так называемым классам (вода, огонь и т. д.).\n",
        "Профессор Оук является изобретателем Pokedex - портативного устройства, которое хранит информацию обо всех существующих покемонах. Как его ведущий специалист по данным, Вы только что получили от него запрос с просьбой осуществить аналитику данных на всех устройствах Pokedex.\n",
        "\n",
        "### Описание набора данных\n",
        "Профессор Оук скопировал все содержимое в память одного устройства Pokedex, в результате чего получился набор данных, с которым Вы будете работать в этой задаче. В этом файле каждая строка представляет характеристики одного покемона:\n",
        "\n",
        "* `pid`: Numeric - ID покемона\n",
        "* `HP`: Numeric - Очки здоровья\n",
        "* `Attack`: Numeric - Сила обычной атаки\n",
        "* `Defense`: Numeric - Сила обычной защиты\n",
        "* `Sp. Atk`: Numeric - Сила специальной атаки\n",
        "* `Sp. Def`: Numeric - Сила специальной защиты\n",
        "* `Speed`: Numeric - Скорость движений\n",
        "* `Legendary`: Boolean - «True», если покемон редкий\n",
        "* `Class 1`: Categorical - Класс покемона\n",
        "* `Class 2`: Categorical - Класс покемона"
      ],
      "metadata": {
        "id": "kpMTlZ28p72r"
      }
    },
    {
      "cell_type": "code",
      "source": [
        "import warnings\n",
        "# Отключение предупреждений (warnings)\n",
        "warnings.filterwarnings(\"ignore\")\n",
        "\n",
        "import pandas as pd\n",
        "import numpy as np\n",
        "import matplotlib.pyplot as plt\n",
        "import scipy.stats as st\n",
        "import seaborn as sns\n",
        "\n",
        "pokemon = pd.read_csv('https://raw.githubusercontent.com/a-milenkin/datasets_for_t-tests/main/pokemon.csv', on_bad_lines='skip')\n",
        "pokemon.head()\n",
        "\n",
        "# Обратите внимание, что у покемона может быть один или два класса.\n",
        "# Если у покемона два класса, считается, что они имеют одинаковую значимость."
      ],
      "metadata": {
        "colab": {
          "base_uri": "https://localhost:8080/",
          "height": 206
        },
        "id": "GfDGPuZtqGKq",
        "outputId": "96762366-efa2-405b-feae-bd9d0ed3131b"
      },
      "execution_count": null,
      "outputs": [
        {
          "output_type": "execute_result",
          "data": {
            "text/plain": [
              "   pid           Name Class 1 Class 2  HP  Attack  Defense  Sp. Atk  Sp. Def  \\\n",
              "0    1      Bulbasaur   Grass  Poison  45      49       49       65       65   \n",
              "1    2        Ivysaur   Grass  Poison  60      62       63       80       80   \n",
              "2    3       Venusaur   Grass  Poison  80      82       83      100      100   \n",
              "3    4  Mega Venusaur   Grass  Poison  80     100      123      122      120   \n",
              "4    5     Charmander    Fire     NaN  39      52       43       60       50   \n",
              "\n",
              "   Speed  Legendary  \n",
              "0     45      False  \n",
              "1     60      False  \n",
              "2     80      False  \n",
              "3     80      False  \n",
              "4     65      False  "
            ],
            "text/html": [
              "\n",
              "  <div id=\"df-22a960ad-a134-4cfa-8210-5351d5675122\" class=\"colab-df-container\">\n",
              "    <div>\n",
              "<style scoped>\n",
              "    .dataframe tbody tr th:only-of-type {\n",
              "        vertical-align: middle;\n",
              "    }\n",
              "\n",
              "    .dataframe tbody tr th {\n",
              "        vertical-align: top;\n",
              "    }\n",
              "\n",
              "    .dataframe thead th {\n",
              "        text-align: right;\n",
              "    }\n",
              "</style>\n",
              "<table border=\"1\" class=\"dataframe\">\n",
              "  <thead>\n",
              "    <tr style=\"text-align: right;\">\n",
              "      <th></th>\n",
              "      <th>pid</th>\n",
              "      <th>Name</th>\n",
              "      <th>Class 1</th>\n",
              "      <th>Class 2</th>\n",
              "      <th>HP</th>\n",
              "      <th>Attack</th>\n",
              "      <th>Defense</th>\n",
              "      <th>Sp. Atk</th>\n",
              "      <th>Sp. Def</th>\n",
              "      <th>Speed</th>\n",
              "      <th>Legendary</th>\n",
              "    </tr>\n",
              "  </thead>\n",
              "  <tbody>\n",
              "    <tr>\n",
              "      <th>0</th>\n",
              "      <td>1</td>\n",
              "      <td>Bulbasaur</td>\n",
              "      <td>Grass</td>\n",
              "      <td>Poison</td>\n",
              "      <td>45</td>\n",
              "      <td>49</td>\n",
              "      <td>49</td>\n",
              "      <td>65</td>\n",
              "      <td>65</td>\n",
              "      <td>45</td>\n",
              "      <td>False</td>\n",
              "    </tr>\n",
              "    <tr>\n",
              "      <th>1</th>\n",
              "      <td>2</td>\n",
              "      <td>Ivysaur</td>\n",
              "      <td>Grass</td>\n",
              "      <td>Poison</td>\n",
              "      <td>60</td>\n",
              "      <td>62</td>\n",
              "      <td>63</td>\n",
              "      <td>80</td>\n",
              "      <td>80</td>\n",
              "      <td>60</td>\n",
              "      <td>False</td>\n",
              "    </tr>\n",
              "    <tr>\n",
              "      <th>2</th>\n",
              "      <td>3</td>\n",
              "      <td>Venusaur</td>\n",
              "      <td>Grass</td>\n",
              "      <td>Poison</td>\n",
              "      <td>80</td>\n",
              "      <td>82</td>\n",
              "      <td>83</td>\n",
              "      <td>100</td>\n",
              "      <td>100</td>\n",
              "      <td>80</td>\n",
              "      <td>False</td>\n",
              "    </tr>\n",
              "    <tr>\n",
              "      <th>3</th>\n",
              "      <td>4</td>\n",
              "      <td>Mega Venusaur</td>\n",
              "      <td>Grass</td>\n",
              "      <td>Poison</td>\n",
              "      <td>80</td>\n",
              "      <td>100</td>\n",
              "      <td>123</td>\n",
              "      <td>122</td>\n",
              "      <td>120</td>\n",
              "      <td>80</td>\n",
              "      <td>False</td>\n",
              "    </tr>\n",
              "    <tr>\n",
              "      <th>4</th>\n",
              "      <td>5</td>\n",
              "      <td>Charmander</td>\n",
              "      <td>Fire</td>\n",
              "      <td>NaN</td>\n",
              "      <td>39</td>\n",
              "      <td>52</td>\n",
              "      <td>43</td>\n",
              "      <td>60</td>\n",
              "      <td>50</td>\n",
              "      <td>65</td>\n",
              "      <td>False</td>\n",
              "    </tr>\n",
              "  </tbody>\n",
              "</table>\n",
              "</div>\n",
              "    <div class=\"colab-df-buttons\">\n",
              "\n",
              "  <div class=\"colab-df-container\">\n",
              "    <button class=\"colab-df-convert\" onclick=\"convertToInteractive('df-22a960ad-a134-4cfa-8210-5351d5675122')\"\n",
              "            title=\"Convert this dataframe to an interactive table.\"\n",
              "            style=\"display:none;\">\n",
              "\n",
              "  <svg xmlns=\"http://www.w3.org/2000/svg\" height=\"24px\" viewBox=\"0 -960 960 960\">\n",
              "    <path d=\"M120-120v-720h720v720H120Zm60-500h600v-160H180v160Zm220 220h160v-160H400v160Zm0 220h160v-160H400v160ZM180-400h160v-160H180v160Zm440 0h160v-160H620v160ZM180-180h160v-160H180v160Zm440 0h160v-160H620v160Z\"/>\n",
              "  </svg>\n",
              "    </button>\n",
              "\n",
              "  <style>\n",
              "    .colab-df-container {\n",
              "      display:flex;\n",
              "      gap: 12px;\n",
              "    }\n",
              "\n",
              "    .colab-df-convert {\n",
              "      background-color: #E8F0FE;\n",
              "      border: none;\n",
              "      border-radius: 50%;\n",
              "      cursor: pointer;\n",
              "      display: none;\n",
              "      fill: #1967D2;\n",
              "      height: 32px;\n",
              "      padding: 0 0 0 0;\n",
              "      width: 32px;\n",
              "    }\n",
              "\n",
              "    .colab-df-convert:hover {\n",
              "      background-color: #E2EBFA;\n",
              "      box-shadow: 0px 1px 2px rgba(60, 64, 67, 0.3), 0px 1px 3px 1px rgba(60, 64, 67, 0.15);\n",
              "      fill: #174EA6;\n",
              "    }\n",
              "\n",
              "    .colab-df-buttons div {\n",
              "      margin-bottom: 4px;\n",
              "    }\n",
              "\n",
              "    [theme=dark] .colab-df-convert {\n",
              "      background-color: #3B4455;\n",
              "      fill: #D2E3FC;\n",
              "    }\n",
              "\n",
              "    [theme=dark] .colab-df-convert:hover {\n",
              "      background-color: #434B5C;\n",
              "      box-shadow: 0px 1px 3px 1px rgba(0, 0, 0, 0.15);\n",
              "      filter: drop-shadow(0px 1px 2px rgba(0, 0, 0, 0.3));\n",
              "      fill: #FFFFFF;\n",
              "    }\n",
              "  </style>\n",
              "\n",
              "    <script>\n",
              "      const buttonEl =\n",
              "        document.querySelector('#df-22a960ad-a134-4cfa-8210-5351d5675122 button.colab-df-convert');\n",
              "      buttonEl.style.display =\n",
              "        google.colab.kernel.accessAllowed ? 'block' : 'none';\n",
              "\n",
              "      async function convertToInteractive(key) {\n",
              "        const element = document.querySelector('#df-22a960ad-a134-4cfa-8210-5351d5675122');\n",
              "        const dataTable =\n",
              "          await google.colab.kernel.invokeFunction('convertToInteractive',\n",
              "                                                    [key], {});\n",
              "        if (!dataTable) return;\n",
              "\n",
              "        const docLinkHtml = 'Like what you see? Visit the ' +\n",
              "          '<a target=\"_blank\" href=https://colab.research.google.com/notebooks/data_table.ipynb>data table notebook</a>'\n",
              "          + ' to learn more about interactive tables.';\n",
              "        element.innerHTML = '';\n",
              "        dataTable['output_type'] = 'display_data';\n",
              "        await google.colab.output.renderOutput(dataTable, element);\n",
              "        const docLink = document.createElement('div');\n",
              "        docLink.innerHTML = docLinkHtml;\n",
              "        element.appendChild(docLink);\n",
              "      }\n",
              "    </script>\n",
              "  </div>\n",
              "\n",
              "\n",
              "<div id=\"df-a352d502-aa8c-4604-b715-83079c4263e9\">\n",
              "  <button class=\"colab-df-quickchart\" onclick=\"quickchart('df-a352d502-aa8c-4604-b715-83079c4263e9')\"\n",
              "            title=\"Suggest charts\"\n",
              "            style=\"display:none;\">\n",
              "\n",
              "<svg xmlns=\"http://www.w3.org/2000/svg\" height=\"24px\"viewBox=\"0 0 24 24\"\n",
              "     width=\"24px\">\n",
              "    <g>\n",
              "        <path d=\"M19 3H5c-1.1 0-2 .9-2 2v14c0 1.1.9 2 2 2h14c1.1 0 2-.9 2-2V5c0-1.1-.9-2-2-2zM9 17H7v-7h2v7zm4 0h-2V7h2v10zm4 0h-2v-4h2v4z\"/>\n",
              "    </g>\n",
              "</svg>\n",
              "  </button>\n",
              "\n",
              "<style>\n",
              "  .colab-df-quickchart {\n",
              "      --bg-color: #E8F0FE;\n",
              "      --fill-color: #1967D2;\n",
              "      --hover-bg-color: #E2EBFA;\n",
              "      --hover-fill-color: #174EA6;\n",
              "      --disabled-fill-color: #AAA;\n",
              "      --disabled-bg-color: #DDD;\n",
              "  }\n",
              "\n",
              "  [theme=dark] .colab-df-quickchart {\n",
              "      --bg-color: #3B4455;\n",
              "      --fill-color: #D2E3FC;\n",
              "      --hover-bg-color: #434B5C;\n",
              "      --hover-fill-color: #FFFFFF;\n",
              "      --disabled-bg-color: #3B4455;\n",
              "      --disabled-fill-color: #666;\n",
              "  }\n",
              "\n",
              "  .colab-df-quickchart {\n",
              "    background-color: var(--bg-color);\n",
              "    border: none;\n",
              "    border-radius: 50%;\n",
              "    cursor: pointer;\n",
              "    display: none;\n",
              "    fill: var(--fill-color);\n",
              "    height: 32px;\n",
              "    padding: 0;\n",
              "    width: 32px;\n",
              "  }\n",
              "\n",
              "  .colab-df-quickchart:hover {\n",
              "    background-color: var(--hover-bg-color);\n",
              "    box-shadow: 0 1px 2px rgba(60, 64, 67, 0.3), 0 1px 3px 1px rgba(60, 64, 67, 0.15);\n",
              "    fill: var(--button-hover-fill-color);\n",
              "  }\n",
              "\n",
              "  .colab-df-quickchart-complete:disabled,\n",
              "  .colab-df-quickchart-complete:disabled:hover {\n",
              "    background-color: var(--disabled-bg-color);\n",
              "    fill: var(--disabled-fill-color);\n",
              "    box-shadow: none;\n",
              "  }\n",
              "\n",
              "  .colab-df-spinner {\n",
              "    border: 2px solid var(--fill-color);\n",
              "    border-color: transparent;\n",
              "    border-bottom-color: var(--fill-color);\n",
              "    animation:\n",
              "      spin 1s steps(1) infinite;\n",
              "  }\n",
              "\n",
              "  @keyframes spin {\n",
              "    0% {\n",
              "      border-color: transparent;\n",
              "      border-bottom-color: var(--fill-color);\n",
              "      border-left-color: var(--fill-color);\n",
              "    }\n",
              "    20% {\n",
              "      border-color: transparent;\n",
              "      border-left-color: var(--fill-color);\n",
              "      border-top-color: var(--fill-color);\n",
              "    }\n",
              "    30% {\n",
              "      border-color: transparent;\n",
              "      border-left-color: var(--fill-color);\n",
              "      border-top-color: var(--fill-color);\n",
              "      border-right-color: var(--fill-color);\n",
              "    }\n",
              "    40% {\n",
              "      border-color: transparent;\n",
              "      border-right-color: var(--fill-color);\n",
              "      border-top-color: var(--fill-color);\n",
              "    }\n",
              "    60% {\n",
              "      border-color: transparent;\n",
              "      border-right-color: var(--fill-color);\n",
              "    }\n",
              "    80% {\n",
              "      border-color: transparent;\n",
              "      border-right-color: var(--fill-color);\n",
              "      border-bottom-color: var(--fill-color);\n",
              "    }\n",
              "    90% {\n",
              "      border-color: transparent;\n",
              "      border-bottom-color: var(--fill-color);\n",
              "    }\n",
              "  }\n",
              "</style>\n",
              "\n",
              "  <script>\n",
              "    async function quickchart(key) {\n",
              "      const quickchartButtonEl =\n",
              "        document.querySelector('#' + key + ' button');\n",
              "      quickchartButtonEl.disabled = true;  // To prevent multiple clicks.\n",
              "      quickchartButtonEl.classList.add('colab-df-spinner');\n",
              "      try {\n",
              "        const charts = await google.colab.kernel.invokeFunction(\n",
              "            'suggestCharts', [key], {});\n",
              "      } catch (error) {\n",
              "        console.error('Error during call to suggestCharts:', error);\n",
              "      }\n",
              "      quickchartButtonEl.classList.remove('colab-df-spinner');\n",
              "      quickchartButtonEl.classList.add('colab-df-quickchart-complete');\n",
              "    }\n",
              "    (() => {\n",
              "      let quickchartButtonEl =\n",
              "        document.querySelector('#df-a352d502-aa8c-4604-b715-83079c4263e9 button');\n",
              "      quickchartButtonEl.style.display =\n",
              "        google.colab.kernel.accessAllowed ? 'block' : 'none';\n",
              "    })();\n",
              "  </script>\n",
              "</div>\n",
              "    </div>\n",
              "  </div>\n"
            ],
            "application/vnd.google.colaboratory.intrinsic+json": {
              "type": "dataframe",
              "summary": "{\n  \"name\": \"# \\u0415\\u0441\\u043b\\u0438 \\u0443 \\u043f\\u043e\\u043a\\u0435\\u043c\\u043e\\u043d\\u0430 \\u0434\\u0432\\u0430 \\u043a\\u043b\\u0430\\u0441\\u0441\\u0430, \\u0441\\u0447\\u0438\\u0442\\u0430\\u0435\\u0442\\u0441\\u044f, \\u0447\\u0442\\u043e \\u043e\\u043d\\u0438 \\u0438\\u043c\\u0435\\u044e\\u0442 \\u043e\\u0434\\u0438\\u043d\\u0430\\u043a\\u043e\\u0432\\u0443\\u044e \\u0437\\u043d\\u0430\\u0447\\u0438\\u043c\\u043e\\u0441\\u0442\\u044c\",\n  \"rows\": 5,\n  \"fields\": [\n    {\n      \"column\": \"pid\",\n      \"properties\": {\n        \"dtype\": \"number\",\n        \"std\": 1,\n        \"min\": 1,\n        \"max\": 5,\n        \"num_unique_values\": 5,\n        \"samples\": [\n          2,\n          5,\n          3\n        ],\n        \"semantic_type\": \"\",\n        \"description\": \"\"\n      }\n    },\n    {\n      \"column\": \"Name\",\n      \"properties\": {\n        \"dtype\": \"string\",\n        \"num_unique_values\": 5,\n        \"samples\": [\n          \"Ivysaur\",\n          \"Charmander\",\n          \"Venusaur\"\n        ],\n        \"semantic_type\": \"\",\n        \"description\": \"\"\n      }\n    },\n    {\n      \"column\": \"Class 1\",\n      \"properties\": {\n        \"dtype\": \"category\",\n        \"num_unique_values\": 2,\n        \"samples\": [\n          \"Fire\",\n          \"Grass\"\n        ],\n        \"semantic_type\": \"\",\n        \"description\": \"\"\n      }\n    },\n    {\n      \"column\": \"Class 2\",\n      \"properties\": {\n        \"dtype\": \"category\",\n        \"num_unique_values\": 1,\n        \"samples\": [\n          \"Poison\"\n        ],\n        \"semantic_type\": \"\",\n        \"description\": \"\"\n      }\n    },\n    {\n      \"column\": \"HP\",\n      \"properties\": {\n        \"dtype\": \"number\",\n        \"std\": 19,\n        \"min\": 39,\n        \"max\": 80,\n        \"num_unique_values\": 4,\n        \"samples\": [\n          60\n        ],\n        \"semantic_type\": \"\",\n        \"description\": \"\"\n      }\n    },\n    {\n      \"column\": \"Attack\",\n      \"properties\": {\n        \"dtype\": \"number\",\n        \"std\": 21,\n        \"min\": 49,\n        \"max\": 100,\n        \"num_unique_values\": 5,\n        \"samples\": [\n          62\n        ],\n        \"semantic_type\": \"\",\n        \"description\": \"\"\n      }\n    },\n    {\n      \"column\": \"Defense\",\n      \"properties\": {\n        \"dtype\": \"number\",\n        \"std\": 32,\n        \"min\": 43,\n        \"max\": 123,\n        \"num_unique_values\": 5,\n        \"samples\": [\n          63\n        ],\n        \"semantic_type\": \"\",\n        \"description\": \"\"\n      }\n    },\n    {\n      \"column\": \"Sp. Atk\",\n      \"properties\": {\n        \"dtype\": \"number\",\n        \"std\": 25,\n        \"min\": 60,\n        \"max\": 122,\n        \"num_unique_values\": 5,\n        \"samples\": [\n          80\n        ],\n        \"semantic_type\": \"\",\n        \"description\": \"\"\n      }\n    },\n    {\n      \"column\": \"Sp. Def\",\n      \"properties\": {\n        \"dtype\": \"number\",\n        \"std\": 27,\n        \"min\": 50,\n        \"max\": 120,\n        \"num_unique_values\": 5,\n        \"samples\": [\n          80\n        ],\n        \"semantic_type\": \"\",\n        \"description\": \"\"\n      }\n    },\n    {\n      \"column\": \"Speed\",\n      \"properties\": {\n        \"dtype\": \"number\",\n        \"std\": 14,\n        \"min\": 45,\n        \"max\": 80,\n        \"num_unique_values\": 4,\n        \"samples\": [\n          60\n        ],\n        \"semantic_type\": \"\",\n        \"description\": \"\"\n      }\n    },\n    {\n      \"column\": \"Legendary\",\n      \"properties\": {\n        \"dtype\": \"boolean\",\n        \"num_unique_values\": 1,\n        \"samples\": [\n          false\n        ],\n        \"semantic_type\": \"\",\n        \"description\": \"\"\n      }\n    }\n  ]\n}"
            }
          },
          "metadata": {},
          "execution_count": 1
        }
      ]
    },
    {
      "cell_type": "code",
      "source": [
        "print(len(pokemon))"
      ],
      "metadata": {
        "colab": {
          "base_uri": "https://localhost:8080/"
        },
        "id": "LadhOJFSv5N8",
        "outputId": "43efb199-23f6-4bf6-de99-6908a07681a7"
      },
      "execution_count": null,
      "outputs": [
        {
          "output_type": "stream",
          "name": "stdout",
          "text": [
            "800\n"
          ]
        }
      ]
    },
    {
      "cell_type": "markdown",
      "source": [
        "<div class=\"alert alert-info\">\n",
        "<b>Задание № 1:</b>\n",
        "    \n",
        "Профессор Оук подозревает, что покемоны в классе `Grass` имеют более сильную обычную атаку, чем покемоны в классе `Rock`. Проверьте, прав ли он, и убедите его в своём выводе статистически.\n",
        "    \n",
        "    \n",
        "Примечание: если есть покемоны, которые относятся к обоим классам, просто выбросьте их;\n",
        "    \n",
        "Вы можете предположить, что распределение обычных атак является нормальным для всех классов покемонов.\n",
        "\n",
        "</div>"
      ],
      "metadata": {
        "id": "FCZ1j5giq-Uw"
      }
    },
    {
      "cell_type": "code",
      "source": [
        "#Поиск покемонов, которые относятся так к классу Grass, так и к классу Rock\n",
        "rock_grass = pokemon[(pokemon['Class 1'] == 'Rock') & (pokemon['Class 2'] == 'Grass')]\n",
        "rock_grass_id = rock_grass.index + 1\n",
        "rock_grass"
      ],
      "metadata": {
        "colab": {
          "base_uri": "https://localhost:8080/",
          "height": 112
        },
        "id": "gTam24_KrC7K",
        "outputId": "07bf9385-4e98-47e3-9967-c3d63888e977"
      },
      "execution_count": null,
      "outputs": [
        {
          "output_type": "execute_result",
          "data": {
            "text/plain": [
              "     pid     Name Class 1 Class 2  HP  Attack  Defense  Sp. Atk  Sp. Def  \\\n",
              "377  378   Lileep    Rock   Grass  66      41       77       61       87   \n",
              "378  379  Cradily    Rock   Grass  86      81       97       81      107   \n",
              "\n",
              "     Speed  Legendary  \n",
              "377     23      False  \n",
              "378     43      False  "
            ],
            "text/html": [
              "\n",
              "  <div id=\"df-518dcda9-96d1-4f68-ac26-60710b5c2213\" class=\"colab-df-container\">\n",
              "    <div>\n",
              "<style scoped>\n",
              "    .dataframe tbody tr th:only-of-type {\n",
              "        vertical-align: middle;\n",
              "    }\n",
              "\n",
              "    .dataframe tbody tr th {\n",
              "        vertical-align: top;\n",
              "    }\n",
              "\n",
              "    .dataframe thead th {\n",
              "        text-align: right;\n",
              "    }\n",
              "</style>\n",
              "<table border=\"1\" class=\"dataframe\">\n",
              "  <thead>\n",
              "    <tr style=\"text-align: right;\">\n",
              "      <th></th>\n",
              "      <th>pid</th>\n",
              "      <th>Name</th>\n",
              "      <th>Class 1</th>\n",
              "      <th>Class 2</th>\n",
              "      <th>HP</th>\n",
              "      <th>Attack</th>\n",
              "      <th>Defense</th>\n",
              "      <th>Sp. Atk</th>\n",
              "      <th>Sp. Def</th>\n",
              "      <th>Speed</th>\n",
              "      <th>Legendary</th>\n",
              "    </tr>\n",
              "  </thead>\n",
              "  <tbody>\n",
              "    <tr>\n",
              "      <th>377</th>\n",
              "      <td>378</td>\n",
              "      <td>Lileep</td>\n",
              "      <td>Rock</td>\n",
              "      <td>Grass</td>\n",
              "      <td>66</td>\n",
              "      <td>41</td>\n",
              "      <td>77</td>\n",
              "      <td>61</td>\n",
              "      <td>87</td>\n",
              "      <td>23</td>\n",
              "      <td>False</td>\n",
              "    </tr>\n",
              "    <tr>\n",
              "      <th>378</th>\n",
              "      <td>379</td>\n",
              "      <td>Cradily</td>\n",
              "      <td>Rock</td>\n",
              "      <td>Grass</td>\n",
              "      <td>86</td>\n",
              "      <td>81</td>\n",
              "      <td>97</td>\n",
              "      <td>81</td>\n",
              "      <td>107</td>\n",
              "      <td>43</td>\n",
              "      <td>False</td>\n",
              "    </tr>\n",
              "  </tbody>\n",
              "</table>\n",
              "</div>\n",
              "    <div class=\"colab-df-buttons\">\n",
              "\n",
              "  <div class=\"colab-df-container\">\n",
              "    <button class=\"colab-df-convert\" onclick=\"convertToInteractive('df-518dcda9-96d1-4f68-ac26-60710b5c2213')\"\n",
              "            title=\"Convert this dataframe to an interactive table.\"\n",
              "            style=\"display:none;\">\n",
              "\n",
              "  <svg xmlns=\"http://www.w3.org/2000/svg\" height=\"24px\" viewBox=\"0 -960 960 960\">\n",
              "    <path d=\"M120-120v-720h720v720H120Zm60-500h600v-160H180v160Zm220 220h160v-160H400v160Zm0 220h160v-160H400v160ZM180-400h160v-160H180v160Zm440 0h160v-160H620v160ZM180-180h160v-160H180v160Zm440 0h160v-160H620v160Z\"/>\n",
              "  </svg>\n",
              "    </button>\n",
              "\n",
              "  <style>\n",
              "    .colab-df-container {\n",
              "      display:flex;\n",
              "      gap: 12px;\n",
              "    }\n",
              "\n",
              "    .colab-df-convert {\n",
              "      background-color: #E8F0FE;\n",
              "      border: none;\n",
              "      border-radius: 50%;\n",
              "      cursor: pointer;\n",
              "      display: none;\n",
              "      fill: #1967D2;\n",
              "      height: 32px;\n",
              "      padding: 0 0 0 0;\n",
              "      width: 32px;\n",
              "    }\n",
              "\n",
              "    .colab-df-convert:hover {\n",
              "      background-color: #E2EBFA;\n",
              "      box-shadow: 0px 1px 2px rgba(60, 64, 67, 0.3), 0px 1px 3px 1px rgba(60, 64, 67, 0.15);\n",
              "      fill: #174EA6;\n",
              "    }\n",
              "\n",
              "    .colab-df-buttons div {\n",
              "      margin-bottom: 4px;\n",
              "    }\n",
              "\n",
              "    [theme=dark] .colab-df-convert {\n",
              "      background-color: #3B4455;\n",
              "      fill: #D2E3FC;\n",
              "    }\n",
              "\n",
              "    [theme=dark] .colab-df-convert:hover {\n",
              "      background-color: #434B5C;\n",
              "      box-shadow: 0px 1px 3px 1px rgba(0, 0, 0, 0.15);\n",
              "      filter: drop-shadow(0px 1px 2px rgba(0, 0, 0, 0.3));\n",
              "      fill: #FFFFFF;\n",
              "    }\n",
              "  </style>\n",
              "\n",
              "    <script>\n",
              "      const buttonEl =\n",
              "        document.querySelector('#df-518dcda9-96d1-4f68-ac26-60710b5c2213 button.colab-df-convert');\n",
              "      buttonEl.style.display =\n",
              "        google.colab.kernel.accessAllowed ? 'block' : 'none';\n",
              "\n",
              "      async function convertToInteractive(key) {\n",
              "        const element = document.querySelector('#df-518dcda9-96d1-4f68-ac26-60710b5c2213');\n",
              "        const dataTable =\n",
              "          await google.colab.kernel.invokeFunction('convertToInteractive',\n",
              "                                                    [key], {});\n",
              "        if (!dataTable) return;\n",
              "\n",
              "        const docLinkHtml = 'Like what you see? Visit the ' +\n",
              "          '<a target=\"_blank\" href=https://colab.research.google.com/notebooks/data_table.ipynb>data table notebook</a>'\n",
              "          + ' to learn more about interactive tables.';\n",
              "        element.innerHTML = '';\n",
              "        dataTable['output_type'] = 'display_data';\n",
              "        await google.colab.output.renderOutput(dataTable, element);\n",
              "        const docLink = document.createElement('div');\n",
              "        docLink.innerHTML = docLinkHtml;\n",
              "        element.appendChild(docLink);\n",
              "      }\n",
              "    </script>\n",
              "  </div>\n",
              "\n",
              "\n",
              "<div id=\"df-dee8ca0c-fdad-4ceb-9f8d-ca2844ed475c\">\n",
              "  <button class=\"colab-df-quickchart\" onclick=\"quickchart('df-dee8ca0c-fdad-4ceb-9f8d-ca2844ed475c')\"\n",
              "            title=\"Suggest charts\"\n",
              "            style=\"display:none;\">\n",
              "\n",
              "<svg xmlns=\"http://www.w3.org/2000/svg\" height=\"24px\"viewBox=\"0 0 24 24\"\n",
              "     width=\"24px\">\n",
              "    <g>\n",
              "        <path d=\"M19 3H5c-1.1 0-2 .9-2 2v14c0 1.1.9 2 2 2h14c1.1 0 2-.9 2-2V5c0-1.1-.9-2-2-2zM9 17H7v-7h2v7zm4 0h-2V7h2v10zm4 0h-2v-4h2v4z\"/>\n",
              "    </g>\n",
              "</svg>\n",
              "  </button>\n",
              "\n",
              "<style>\n",
              "  .colab-df-quickchart {\n",
              "      --bg-color: #E8F0FE;\n",
              "      --fill-color: #1967D2;\n",
              "      --hover-bg-color: #E2EBFA;\n",
              "      --hover-fill-color: #174EA6;\n",
              "      --disabled-fill-color: #AAA;\n",
              "      --disabled-bg-color: #DDD;\n",
              "  }\n",
              "\n",
              "  [theme=dark] .colab-df-quickchart {\n",
              "      --bg-color: #3B4455;\n",
              "      --fill-color: #D2E3FC;\n",
              "      --hover-bg-color: #434B5C;\n",
              "      --hover-fill-color: #FFFFFF;\n",
              "      --disabled-bg-color: #3B4455;\n",
              "      --disabled-fill-color: #666;\n",
              "  }\n",
              "\n",
              "  .colab-df-quickchart {\n",
              "    background-color: var(--bg-color);\n",
              "    border: none;\n",
              "    border-radius: 50%;\n",
              "    cursor: pointer;\n",
              "    display: none;\n",
              "    fill: var(--fill-color);\n",
              "    height: 32px;\n",
              "    padding: 0;\n",
              "    width: 32px;\n",
              "  }\n",
              "\n",
              "  .colab-df-quickchart:hover {\n",
              "    background-color: var(--hover-bg-color);\n",
              "    box-shadow: 0 1px 2px rgba(60, 64, 67, 0.3), 0 1px 3px 1px rgba(60, 64, 67, 0.15);\n",
              "    fill: var(--button-hover-fill-color);\n",
              "  }\n",
              "\n",
              "  .colab-df-quickchart-complete:disabled,\n",
              "  .colab-df-quickchart-complete:disabled:hover {\n",
              "    background-color: var(--disabled-bg-color);\n",
              "    fill: var(--disabled-fill-color);\n",
              "    box-shadow: none;\n",
              "  }\n",
              "\n",
              "  .colab-df-spinner {\n",
              "    border: 2px solid var(--fill-color);\n",
              "    border-color: transparent;\n",
              "    border-bottom-color: var(--fill-color);\n",
              "    animation:\n",
              "      spin 1s steps(1) infinite;\n",
              "  }\n",
              "\n",
              "  @keyframes spin {\n",
              "    0% {\n",
              "      border-color: transparent;\n",
              "      border-bottom-color: var(--fill-color);\n",
              "      border-left-color: var(--fill-color);\n",
              "    }\n",
              "    20% {\n",
              "      border-color: transparent;\n",
              "      border-left-color: var(--fill-color);\n",
              "      border-top-color: var(--fill-color);\n",
              "    }\n",
              "    30% {\n",
              "      border-color: transparent;\n",
              "      border-left-color: var(--fill-color);\n",
              "      border-top-color: var(--fill-color);\n",
              "      border-right-color: var(--fill-color);\n",
              "    }\n",
              "    40% {\n",
              "      border-color: transparent;\n",
              "      border-right-color: var(--fill-color);\n",
              "      border-top-color: var(--fill-color);\n",
              "    }\n",
              "    60% {\n",
              "      border-color: transparent;\n",
              "      border-right-color: var(--fill-color);\n",
              "    }\n",
              "    80% {\n",
              "      border-color: transparent;\n",
              "      border-right-color: var(--fill-color);\n",
              "      border-bottom-color: var(--fill-color);\n",
              "    }\n",
              "    90% {\n",
              "      border-color: transparent;\n",
              "      border-bottom-color: var(--fill-color);\n",
              "    }\n",
              "  }\n",
              "</style>\n",
              "\n",
              "  <script>\n",
              "    async function quickchart(key) {\n",
              "      const quickchartButtonEl =\n",
              "        document.querySelector('#' + key + ' button');\n",
              "      quickchartButtonEl.disabled = true;  // To prevent multiple clicks.\n",
              "      quickchartButtonEl.classList.add('colab-df-spinner');\n",
              "      try {\n",
              "        const charts = await google.colab.kernel.invokeFunction(\n",
              "            'suggestCharts', [key], {});\n",
              "      } catch (error) {\n",
              "        console.error('Error during call to suggestCharts:', error);\n",
              "      }\n",
              "      quickchartButtonEl.classList.remove('colab-df-spinner');\n",
              "      quickchartButtonEl.classList.add('colab-df-quickchart-complete');\n",
              "    }\n",
              "    (() => {\n",
              "      let quickchartButtonEl =\n",
              "        document.querySelector('#df-dee8ca0c-fdad-4ceb-9f8d-ca2844ed475c button');\n",
              "      quickchartButtonEl.style.display =\n",
              "        google.colab.kernel.accessAllowed ? 'block' : 'none';\n",
              "    })();\n",
              "  </script>\n",
              "</div>\n",
              "    </div>\n",
              "  </div>\n"
            ],
            "application/vnd.google.colaboratory.intrinsic+json": {
              "type": "dataframe",
              "variable_name": "rock_grass",
              "summary": "{\n  \"name\": \"rock_grass\",\n  \"rows\": 2,\n  \"fields\": [\n    {\n      \"column\": \"pid\",\n      \"properties\": {\n        \"dtype\": \"number\",\n        \"std\": 0,\n        \"min\": 378,\n        \"max\": 379,\n        \"num_unique_values\": 2,\n        \"samples\": [\n          379,\n          378\n        ],\n        \"semantic_type\": \"\",\n        \"description\": \"\"\n      }\n    },\n    {\n      \"column\": \"Name\",\n      \"properties\": {\n        \"dtype\": \"string\",\n        \"num_unique_values\": 2,\n        \"samples\": [\n          \"Cradily\",\n          \"Lileep\"\n        ],\n        \"semantic_type\": \"\",\n        \"description\": \"\"\n      }\n    },\n    {\n      \"column\": \"Class 1\",\n      \"properties\": {\n        \"dtype\": \"string\",\n        \"num_unique_values\": 1,\n        \"samples\": [\n          \"Rock\"\n        ],\n        \"semantic_type\": \"\",\n        \"description\": \"\"\n      }\n    },\n    {\n      \"column\": \"Class 2\",\n      \"properties\": {\n        \"dtype\": \"string\",\n        \"num_unique_values\": 1,\n        \"samples\": [\n          \"Grass\"\n        ],\n        \"semantic_type\": \"\",\n        \"description\": \"\"\n      }\n    },\n    {\n      \"column\": \"HP\",\n      \"properties\": {\n        \"dtype\": \"number\",\n        \"std\": 14,\n        \"min\": 66,\n        \"max\": 86,\n        \"num_unique_values\": 2,\n        \"samples\": [\n          86\n        ],\n        \"semantic_type\": \"\",\n        \"description\": \"\"\n      }\n    },\n    {\n      \"column\": \"Attack\",\n      \"properties\": {\n        \"dtype\": \"number\",\n        \"std\": 28,\n        \"min\": 41,\n        \"max\": 81,\n        \"num_unique_values\": 2,\n        \"samples\": [\n          81\n        ],\n        \"semantic_type\": \"\",\n        \"description\": \"\"\n      }\n    },\n    {\n      \"column\": \"Defense\",\n      \"properties\": {\n        \"dtype\": \"number\",\n        \"std\": 14,\n        \"min\": 77,\n        \"max\": 97,\n        \"num_unique_values\": 2,\n        \"samples\": [\n          97\n        ],\n        \"semantic_type\": \"\",\n        \"description\": \"\"\n      }\n    },\n    {\n      \"column\": \"Sp. Atk\",\n      \"properties\": {\n        \"dtype\": \"number\",\n        \"std\": 14,\n        \"min\": 61,\n        \"max\": 81,\n        \"num_unique_values\": 2,\n        \"samples\": [\n          81\n        ],\n        \"semantic_type\": \"\",\n        \"description\": \"\"\n      }\n    },\n    {\n      \"column\": \"Sp. Def\",\n      \"properties\": {\n        \"dtype\": \"number\",\n        \"std\": 14,\n        \"min\": 87,\n        \"max\": 107,\n        \"num_unique_values\": 2,\n        \"samples\": [\n          107\n        ],\n        \"semantic_type\": \"\",\n        \"description\": \"\"\n      }\n    },\n    {\n      \"column\": \"Speed\",\n      \"properties\": {\n        \"dtype\": \"number\",\n        \"std\": 14,\n        \"min\": 23,\n        \"max\": 43,\n        \"num_unique_values\": 2,\n        \"samples\": [\n          43\n        ],\n        \"semantic_type\": \"\",\n        \"description\": \"\"\n      }\n    },\n    {\n      \"column\": \"Legendary\",\n      \"properties\": {\n        \"dtype\": \"boolean\",\n        \"num_unique_values\": 1,\n        \"samples\": [\n          false\n        ],\n        \"semantic_type\": \"\",\n        \"description\": \"\"\n      }\n    }\n  ]\n}"
            }
          },
          "metadata": {},
          "execution_count": 3
        }
      ]
    },
    {
      "cell_type": "code",
      "source": [
        "rock_grass_id"
      ],
      "metadata": {
        "colab": {
          "base_uri": "https://localhost:8080/"
        },
        "id": "UKcNDCvbvu7F",
        "outputId": "fa0c9c48-386f-4f2c-8385-74d14721e254"
      },
      "execution_count": null,
      "outputs": [
        {
          "output_type": "execute_result",
          "data": {
            "text/plain": [
              "Index([378, 379], dtype='int64')"
            ]
          },
          "metadata": {},
          "execution_count": 4
        }
      ]
    },
    {
      "cell_type": "code",
      "source": [
        "#Проверим вторую комбинацию классов\n",
        "grass_rock = pokemon[(pokemon['Class 1'] == 'Grass') & (pokemon['Class 2'] == 'Rock')]\n",
        "grass_rock\n",
        "\n",
        "#Таких строк в датафрейме нет, поэтому для исключения будем использовать предыдущий набор"
      ],
      "metadata": {
        "colab": {
          "base_uri": "https://localhost:8080/",
          "height": 53
        },
        "id": "2qcLr0_6tpBc",
        "outputId": "3996cee2-318e-44ab-ec7b-2a10b34f591c"
      },
      "execution_count": null,
      "outputs": [
        {
          "output_type": "execute_result",
          "data": {
            "text/plain": [
              "Empty DataFrame\n",
              "Columns: [pid, Name, Class 1, Class 2, HP, Attack, Defense, Sp. Atk, Sp. Def, Speed, Legendary]\n",
              "Index: []"
            ],
            "text/html": [
              "\n",
              "  <div id=\"df-383cd83e-16b4-43e1-a339-0f2a47409627\" class=\"colab-df-container\">\n",
              "    <div>\n",
              "<style scoped>\n",
              "    .dataframe tbody tr th:only-of-type {\n",
              "        vertical-align: middle;\n",
              "    }\n",
              "\n",
              "    .dataframe tbody tr th {\n",
              "        vertical-align: top;\n",
              "    }\n",
              "\n",
              "    .dataframe thead th {\n",
              "        text-align: right;\n",
              "    }\n",
              "</style>\n",
              "<table border=\"1\" class=\"dataframe\">\n",
              "  <thead>\n",
              "    <tr style=\"text-align: right;\">\n",
              "      <th></th>\n",
              "      <th>pid</th>\n",
              "      <th>Name</th>\n",
              "      <th>Class 1</th>\n",
              "      <th>Class 2</th>\n",
              "      <th>HP</th>\n",
              "      <th>Attack</th>\n",
              "      <th>Defense</th>\n",
              "      <th>Sp. Atk</th>\n",
              "      <th>Sp. Def</th>\n",
              "      <th>Speed</th>\n",
              "      <th>Legendary</th>\n",
              "    </tr>\n",
              "  </thead>\n",
              "  <tbody>\n",
              "  </tbody>\n",
              "</table>\n",
              "</div>\n",
              "    <div class=\"colab-df-buttons\">\n",
              "\n",
              "  <div class=\"colab-df-container\">\n",
              "    <button class=\"colab-df-convert\" onclick=\"convertToInteractive('df-383cd83e-16b4-43e1-a339-0f2a47409627')\"\n",
              "            title=\"Convert this dataframe to an interactive table.\"\n",
              "            style=\"display:none;\">\n",
              "\n",
              "  <svg xmlns=\"http://www.w3.org/2000/svg\" height=\"24px\" viewBox=\"0 -960 960 960\">\n",
              "    <path d=\"M120-120v-720h720v720H120Zm60-500h600v-160H180v160Zm220 220h160v-160H400v160Zm0 220h160v-160H400v160ZM180-400h160v-160H180v160Zm440 0h160v-160H620v160ZM180-180h160v-160H180v160Zm440 0h160v-160H620v160Z\"/>\n",
              "  </svg>\n",
              "    </button>\n",
              "\n",
              "  <style>\n",
              "    .colab-df-container {\n",
              "      display:flex;\n",
              "      gap: 12px;\n",
              "    }\n",
              "\n",
              "    .colab-df-convert {\n",
              "      background-color: #E8F0FE;\n",
              "      border: none;\n",
              "      border-radius: 50%;\n",
              "      cursor: pointer;\n",
              "      display: none;\n",
              "      fill: #1967D2;\n",
              "      height: 32px;\n",
              "      padding: 0 0 0 0;\n",
              "      width: 32px;\n",
              "    }\n",
              "\n",
              "    .colab-df-convert:hover {\n",
              "      background-color: #E2EBFA;\n",
              "      box-shadow: 0px 1px 2px rgba(60, 64, 67, 0.3), 0px 1px 3px 1px rgba(60, 64, 67, 0.15);\n",
              "      fill: #174EA6;\n",
              "    }\n",
              "\n",
              "    .colab-df-buttons div {\n",
              "      margin-bottom: 4px;\n",
              "    }\n",
              "\n",
              "    [theme=dark] .colab-df-convert {\n",
              "      background-color: #3B4455;\n",
              "      fill: #D2E3FC;\n",
              "    }\n",
              "\n",
              "    [theme=dark] .colab-df-convert:hover {\n",
              "      background-color: #434B5C;\n",
              "      box-shadow: 0px 1px 3px 1px rgba(0, 0, 0, 0.15);\n",
              "      filter: drop-shadow(0px 1px 2px rgba(0, 0, 0, 0.3));\n",
              "      fill: #FFFFFF;\n",
              "    }\n",
              "  </style>\n",
              "\n",
              "    <script>\n",
              "      const buttonEl =\n",
              "        document.querySelector('#df-383cd83e-16b4-43e1-a339-0f2a47409627 button.colab-df-convert');\n",
              "      buttonEl.style.display =\n",
              "        google.colab.kernel.accessAllowed ? 'block' : 'none';\n",
              "\n",
              "      async function convertToInteractive(key) {\n",
              "        const element = document.querySelector('#df-383cd83e-16b4-43e1-a339-0f2a47409627');\n",
              "        const dataTable =\n",
              "          await google.colab.kernel.invokeFunction('convertToInteractive',\n",
              "                                                    [key], {});\n",
              "        if (!dataTable) return;\n",
              "\n",
              "        const docLinkHtml = 'Like what you see? Visit the ' +\n",
              "          '<a target=\"_blank\" href=https://colab.research.google.com/notebooks/data_table.ipynb>data table notebook</a>'\n",
              "          + ' to learn more about interactive tables.';\n",
              "        element.innerHTML = '';\n",
              "        dataTable['output_type'] = 'display_data';\n",
              "        await google.colab.output.renderOutput(dataTable, element);\n",
              "        const docLink = document.createElement('div');\n",
              "        docLink.innerHTML = docLinkHtml;\n",
              "        element.appendChild(docLink);\n",
              "      }\n",
              "    </script>\n",
              "  </div>\n",
              "\n",
              "    </div>\n",
              "  </div>\n"
            ],
            "application/vnd.google.colaboratory.intrinsic+json": {
              "type": "dataframe",
              "variable_name": "grass_rock",
              "repr_error": "Out of range float values are not JSON compliant: nan"
            }
          },
          "metadata": {},
          "execution_count": 5
        }
      ]
    },
    {
      "cell_type": "code",
      "source": [
        "#Исключение вышеупомянутых данных\n",
        "droped_pokemons = pokemon[~pokemon['pid'].isin(rock_grass_id)]\n",
        "print(f\"После очистки мы имеем {len(droped_pokemons)} набором покемонов. Осталось отфильровать датафрейм по упомнятым классам\")"
      ],
      "metadata": {
        "colab": {
          "base_uri": "https://localhost:8080/"
        },
        "id": "iLOgndz4t_vX",
        "outputId": "e195d250-24cb-45b1-db31-f4dad1118b7b"
      },
      "execution_count": null,
      "outputs": [
        {
          "output_type": "stream",
          "name": "stdout",
          "text": [
            "После очистки мы имеем 798 набором покемонов. Осталось отфильровать датафрейм по упомнятым классам\n"
          ]
        }
      ]
    },
    {
      "cell_type": "code",
      "source": [
        "rock_p = droped_pokemons[(droped_pokemons['Class 1'] == 'Rock') | (droped_pokemons['Class 2'] == 'Rock')]\n",
        "grass_p = droped_pokemons[(droped_pokemons['Class 1'] == 'Grass') | (droped_pokemons['Class 2'] == 'Grass')]\n",
        "plt.figure(figsize=(5,5))\n",
        "plt.hist(rock_p['Attack'], bins=40, alpha=0.8, label='Rock class')\n",
        "plt.hist(grass_p['Attack'], bins=40, alpha=0.5, label='Grass class')\n",
        "plt.legend(loc='upper right')\n",
        "plt.title('Распредления по классам')\n",
        "plt.show()"
      ],
      "metadata": {
        "colab": {
          "base_uri": "https://localhost:8080/",
          "height": 468
        },
        "id": "PGykRSi5w566",
        "outputId": "05c796a4-6561-4f54-8f19-a5c3f1b259c8"
      },
      "execution_count": null,
      "outputs": [
        {
          "output_type": "display_data",
          "data": {
            "text/plain": [
              "<Figure size 500x500 with 1 Axes>"
            ],
            "image/png": "[encoded data removed]"
          },
          "metadata": {}
        }
      ]
    },
    {
      "cell_type": "code",
      "source": [
        "print(grass_p['Attack'].mean())\n",
        "print(rock_p['Attack'].mean())"
      ],
      "metadata": {
        "colab": {
          "base_uri": "https://localhost:8080/"
        },
        "id": "EFQkneg85BRW",
        "outputId": "074b4caa-5db9-4cef-fe52-b9c094dac406"
      },
      "execution_count": null,
      "outputs": [
        {
          "output_type": "stream",
          "name": "stdout",
          "text": [
            "73.73118279569893\n",
            "91.78571428571429\n"
          ]
        }
      ]
    },
    {
      "cell_type": "code",
      "source": [
        "#Тк из условия задания мы предпологаем, что распределение обычных атак является нормальным дял всех классов покемонов,\n",
        "#мы можем перейти к f-тесту, чтобы проверить равенство дисперсий\n",
        "def f_test(group1, group2):\n",
        "  f = np.var(group1, ddof=1) / np.var(group2, ddof=1)\n",
        "  nun = group1.size - 1\n",
        "  dun = group2.size - 1\n",
        "  pval = 1 - st.f.cdf(f, nun, dun)\n",
        "  return f, pval"
      ],
      "metadata": {
        "id": "DVDRaYAO2CEU"
      },
      "execution_count": null,
      "outputs": []
    },
    {
      "cell_type": "code",
      "source": [
        "stat1, p1 = f_test(grass_p['Attack'], rock_p['Attack'])\n",
        "print(f\"Статистика = {stat1:.3f}, p = {p1:5f}\")\n",
        "if p1 > 0.05:\n",
        "  print('Не отклоняем нулевую гипотезу, дисперсии, вероятно, одинаковые')\n",
        "else:\n",
        "  print('Отклоняем нулевую гипотезу, дисперсии, вероятно, различаются')"
      ],
      "metadata": {
        "colab": {
          "base_uri": "https://localhost:8080/"
        },
        "id": "Q34ch1Ny6Zq7",
        "outputId": "a13ccdd0-fbf2-47d1-d8c2-b54258250ac8"
      },
      "execution_count": null,
      "outputs": [
        {
          "output_type": "stream",
          "name": "stdout",
          "text": [
            "Статистика = 0.483, p = 0.999009\n",
            "Не отклоняем нулевую гипотезу, дисперсии, вероятно, одинаковые\n"
          ]
        }
      ]
    },
    {
      "cell_type": "code",
      "source": [
        "#Тк f-тест показал, что дисперсии скорее всего отличаются,\n",
        "#то при применении t-критерия Стьюдента мы будем использовать поправку Уэлча\n",
        "stat1, p1 = st.ttest_ind(rock_p['Attack'], grass_p['Attack'], equal_var=False)\n",
        "print(f\"Статистика = {stat1:.3f}, p = {p1:5f}\")\n",
        "if p1 > 0.05:\n",
        "  print('Не отклоняем нулевую гипотезу, средние, вероятно, одинаковые')\n",
        "else:\n",
        "  print('Отклоняем нулевую гипотезу, средние, вероятно, различаются')\n",
        "\n",
        "#Вывод. Разлчие между классами по силе обычной атаки, как и предполагалось, есть."
      ],
      "metadata": {
        "colab": {
          "base_uri": "https://localhost:8080/"
        },
        "id": "QdOJOouy7VOB",
        "outputId": "a4dbaa05-d613-4689-88a0-e386afa1d307"
      },
      "execution_count": null,
      "outputs": [
        {
          "output_type": "stream",
          "name": "stdout",
          "text": [
            "Статистика = 3.417, p = 0.000964\n",
            "Отклоняем нулевую гипотезу, средние, вероятно, различаются\n"
          ]
        }
      ]
    },
    {
      "cell_type": "code",
      "source": [
        "#Можно выполнить проверку односторонней гипотезы со следующими нулевой и альтернативной гипотезами:\n",
        "#H0 Grass > Rock\n",
        "#H1 Grass < Rock\n",
        "stat1, p1 = st.ttest_ind(grass_p['Attack'], rock_p['Attack'], equal_var=False, alternative='less')\n",
        "print(f\"Статистика = {stat1:.3f}, p = {p1:5f}\")\n",
        "if p1 > 0.05:\n",
        "  print('Не отклоняем нулевую гипотезу')\n",
        "else:\n",
        "  print('Отклоняем нулевую гипотезу')\n",
        "\n",
        "#Исходя из этого можно сделать вывод о том, что покемоны из класса Grass в среднем имеют меньшую атаку, чем в классе Rock\n",
        "#Следовательно, утверждение профессора Оука статистически не подтверждается."
      ],
      "metadata": {
        "colab": {
          "base_uri": "https://localhost:8080/"
        },
        "id": "fWBS5vE_wJp_",
        "outputId": "806da81f-7b89-4f09-cafb-bdcf385664ba"
      },
      "execution_count": null,
      "outputs": [
        {
          "output_type": "stream",
          "name": "stdout",
          "text": [
            "Статистика = -3.417, p = 0.000482\n",
            "Отклоняем нулевую гипотезу\n"
          ]
        }
      ]
    },
    {
      "cell_type": "markdown",
      "source": [
        "<div class=\"alert alert-info\">\n",
        "<b>Задание № 2:</b>\n",
        "    \n",
        "Профессор Оук уже долго не может спать по ночам, ведь его волнует вопрос, а правда ли, что покемоны в классе `Water` в среднем быстрее, чем покемоны в классе `Normal`.\n",
        "    \n",
        "    \n",
        "Проверьте, прав ли он, и убедите его в своём выводе статистически.\n",
        "    \n",
        "Примечание: если есть покемоны, которые относятся к обоим классам, выбросьте их;\n",
        "    \n",
        "Вы можете предположить, что распределение скорости движения является нормальным для всех классов покемонов.\n",
        "</div>"
      ],
      "metadata": {
        "id": "4aCBTpdZTJoP"
      }
    },
    {
      "cell_type": "code",
      "source": [
        "#Поиск покемонов, которые относятся так к классу Water, так и к классу Normal\n",
        "water_norm = pokemon[(pokemon['Class 1'] == 'Normal') & (pokemon['Class 2'] == 'Water') | (pokemon['Class 1'] == 'Water') & (pokemon['Class 2'] == 'Normal')]\n",
        "id_to_remove = water_norm.index + 1\n",
        "droped_pokemons2 = pokemon[~pokemon['pid'].isin(id_to_remove)]\n",
        "print(f\"После очистки мы имеем {len(droped_pokemons2)} набором покемонов. Осталось отфильровать датафрейм по упомнятым классам\")"
      ],
      "metadata": {
        "colab": {
          "base_uri": "https://localhost:8080/"
        },
        "id": "8Vj_pCqXTRbM",
        "outputId": "010b3a62-a6d0-4a23-d126-4d3a3ddcff28"
      },
      "execution_count": null,
      "outputs": [
        {
          "output_type": "stream",
          "name": "stdout",
          "text": [
            "После очистки мы имеем 799 набором покемонов. Осталось отфильровать датафрейм по упомнятым классам\n"
          ]
        }
      ]
    },
    {
      "cell_type": "code",
      "source": [
        "water_p = droped_pokemons2[(droped_pokemons2['Class 1'] == 'Water') | (droped_pokemons2['Class 2'] == 'Water')]\n",
        "norm_p = droped_pokemons2[(droped_pokemons2['Class 1'] == 'Normal') | (droped_pokemons2['Class 2'] == 'Normal')]\n",
        "plt.figure(figsize=(5,5))\n",
        "plt.hist(water_p['Speed'], bins=50, alpha=0.8, label='Water class')\n",
        "plt.hist(norm_p['Speed'], bins=50, alpha=0.5, label='Normal class')\n",
        "plt.legend(loc='upper right')\n",
        "plt.title('Распредления по классам')\n",
        "plt.show()"
      ],
      "metadata": {
        "colab": {
          "base_uri": "https://localhost:8080/",
          "height": 468
        },
        "id": "XxKf_dUkVGQX",
        "outputId": "7689de23-a687-4671-e581-0e70ef51feae"
      },
      "execution_count": null,
      "outputs": [
        {
          "output_type": "display_data",
          "data": {
            "text/plain": [
              "<Figure size 500x500 with 1 Axes>"
            ],
            "image/png": "[encoded data removed]"
          },
          "metadata": {}
        }
      ]
    },
    {
      "cell_type": "code",
      "source": [
        "print(water_p['Speed'].sum())\n",
        "print(water_p['Speed'].count())\n",
        "print(water_p['Speed'].mean())\n",
        "print('------------------------')\n",
        "print(norm_p['Speed'].sum())\n",
        "print(norm_p['Speed'].count())\n",
        "print(norm_p['Speed'].mean())"
      ],
      "metadata": {
        "colab": {
          "base_uri": "https://localhost:8080/"
        },
        "id": "0EjIlCr7jA2t",
        "outputId": "ab238587-7317-4cb3-ca81-8300a071c2e5"
      },
      "execution_count": null,
      "outputs": [
        {
          "output_type": "stream",
          "name": "stdout",
          "text": [
            "8117\n",
            "125\n",
            "64.936\n",
            "------------------------\n",
            "7298\n",
            "101\n",
            "72.25742574257426\n"
          ]
        }
      ]
    },
    {
      "cell_type": "code",
      "source": [
        "#Попробуем применить Bootstrap\n",
        "boot_ld_w = []\n",
        "boot_ld_n= []\n",
        "for i in range(1000):\n",
        "  boot_mean_w = water_p.sample(frac=0.02, replace=True)['Speed'].mean()\n",
        "  boot_ld_w.append(boot_mean_w)\n",
        "  boot_mean_n = norm_p.sample(frac=0.02, replace=True)['Speed'].mean()\n",
        "  boot_ld_n.append(boot_mean_n)\n",
        "boot_ld2 = pd.DataFrame({'Water': boot_ld_w, 'Normal': boot_ld_n})\n",
        "boot_ld2.plot(kind='density')\n",
        "plt.title('Плотность распредления средних значений обычной атаки')"
      ],
      "metadata": {
        "colab": {
          "base_uri": "https://localhost:8080/",
          "height": 470
        },
        "id": "ECiUFLDjV-fx",
        "outputId": "0538a462-7c38-4a78-dc57-c4fd1d0ff6b3"
      },
      "execution_count": null,
      "outputs": [
        {
          "output_type": "execute_result",
          "data": {
            "text/plain": [
              "Text(0.5, 1.0, 'Плотность распредления средних значений обычной атаки')"
            ]
          },
          "metadata": {},
          "execution_count": 20
        },
        {
          "output_type": "display_data",
          "data": {
            "text/plain": [
              "<Figure size 640x480 with 1 Axes>"
            ],
            "image/png": "[encoded data removed]"
          },
          "metadata": {}
        }
      ]
    },
    {
      "cell_type": "code",
      "source": [
        "#Проверка равенства дисперсий\n",
        "stat2, p2 = f_test(boot_ld2['Normal'], boot_ld2['Water'])\n",
        "print(f\"Статистика = {stat2:.3f}, p = {p2:5f}\")\n",
        "if p2 > 0.05:\n",
        "  print('Не отклоняем нулевую гипотезу, дисперсии, вероятно, одинаковые')\n",
        "else:\n",
        "  print('Отклоняем нулевую гипотезу, дисперсии, вероятно, различаются')"
      ],
      "metadata": {
        "colab": {
          "base_uri": "https://localhost:8080/"
        },
        "id": "7RgxxxWxXVIM",
        "outputId": "d4867fda-7e53-40b2-ccc8-cb14980a4c2c"
      },
      "execution_count": null,
      "outputs": [
        {
          "output_type": "stream",
          "name": "stdout",
          "text": [
            "Статистика = 1.464, p = 0.000000\n",
            "Отклоняем нулевую гипотезу, дисперсии, вероятно, различаются\n"
          ]
        }
      ]
    },
    {
      "cell_type": "code",
      "source": [
        "#Тк f-тест показал, что дисперсии скорее всего отличаются,\n",
        "#то при применении t-критерия Стьюдента мы будем использовать поправку Уэлча\n",
        "stat2, p2 = st.ttest_ind(boot_ld2['Normal'], boot_ld2['Water'], equal_var=False)\n",
        "print(f\"Статистика = {stat2:.3f}, p = {p2:5f}\")\n",
        "if p2 > 0.05:\n",
        "  print('Не отклоняем нулевую гипотезу, средние, вероятно, одинаковые')\n",
        "else:\n",
        "  print('Отклоняем нулевую гипотезу, средние, вероятно, различаются')\n",
        "\n",
        "#Вывод. Разлчие между классами по скорости, как и предполагалось, есть."
      ],
      "metadata": {
        "colab": {
          "base_uri": "https://localhost:8080/"
        },
        "id": "5mXj0RKKYj1l",
        "outputId": "ab3be67a-6cd0-43c3-8286-ab8d2577b73e"
      },
      "execution_count": null,
      "outputs": [
        {
          "output_type": "stream",
          "name": "stdout",
          "text": [
            "Статистика = 7.087, p = 0.000000\n",
            "Отклоняем нулевую гипотезу, средние, вероятно, различаются\n"
          ]
        }
      ]
    },
    {
      "cell_type": "code",
      "source": [
        "#Можно выполнить проверку односторонней гипотезы со следующими нулевой и альтернативной гипотезами:\n",
        "#H0 Water > Normal\n",
        "#H1 Water < Normal\n",
        "stat2, p2 = st.ttest_ind(boot_ld2['Water'], boot_ld2['Normal'], equal_var=False, alternative='less')\n",
        "print(f\"Статистика = {stat1:.3f}, p = {p1:5f}\")\n",
        "if p2 > 0.05:\n",
        "  print('Не отклоняем нулевую гипотезу')\n",
        "else:\n",
        "  print('Отклоняем нулевую гипотезу')\n",
        "\n",
        "#Исходя из этого можно сделать вывод о том, что покемоны из класса Water в среднем имеют даже меньшую атаку, чем в классе Normal\n",
        "#Следовательно, утверждение профессора Оука статистически не подтверждается."
      ],
      "metadata": {
        "colab": {
          "base_uri": "https://localhost:8080/"
        },
        "id": "NztnuXXx5L3K",
        "outputId": "99bccab2-d658-4461-ad21-83bbc0628624"
      },
      "execution_count": null,
      "outputs": [
        {
          "output_type": "stream",
          "name": "stdout",
          "text": [
            "Статистика = -3.417, p = 0.000482\n",
            "Отклоняем нулевую гипотезу\n"
          ]
        }
      ]
    },
    {
      "cell_type": "markdown",
      "source": [
        "<div class=\"alert alert-info\">\n",
        "<b>Задание № 3:</b>\n",
        "    \n",
        "Профессор Оук тот еще безумец. Он изобрёл сыворотку, способную ускорить покемона. Однако мы усомнились в эффективности его вакцины. Професоор дал эту сыворотку следующим покемонам: смотри массив `treathed_pokemon`. Проверьте, работает ли вообще его сыворотка, убедите всех в своём выводе статистически.\n",
        "    \n",
        "    \n",
        "Вы можете предположить, что распределение скорости движения является нормальным для всех классов покемонов.\n",
        "\n",
        "</div>"
      ],
      "metadata": {
        "id": "z-KkOz1pbQMB"
      }
    },
    {
      "cell_type": "code",
      "source": [
        "# Покемоны, которые принимали сыворотку увеличения скорости\n",
        "treathed_pokemon = ['Mega Beedrill', 'Mega Alakazam',\n",
        "                    'Deoxys Normal Forme', 'Mega Lopunny']\n",
        "grouped_data = pokemon.copy()\n",
        "grouped_data['Category'] = grouped_data['Name'].apply(lambda x: 'Treathed' if x in treathed_pokemon else 'Not treathed')"
      ],
      "metadata": {
        "id": "kEpj17P1bTK_"
      },
      "execution_count": null,
      "outputs": []
    },
    {
      "cell_type": "code",
      "source": [
        "grouped_data.groupby('Category')['Category'].count()\n",
        "#Имеем 796 покемонов, которым не вводили сыворотку"
      ],
      "metadata": {
        "colab": {
          "base_uri": "https://localhost:8080/"
        },
        "id": "no4JWE7uiWFU",
        "outputId": "218c9c7a-92d7-4708-a4e3-a261038e962a"
      },
      "execution_count": null,
      "outputs": [
        {
          "output_type": "execute_result",
          "data": {
            "text/plain": [
              "Category\n",
              "Not treathed    796\n",
              "Treathed          4\n",
              "Name: Category, dtype: int64"
            ]
          },
          "metadata": {},
          "execution_count": 26
        }
      ]
    },
    {
      "cell_type": "code",
      "source": [
        "grouped_data.groupby('Category')['Speed'].sum()"
      ],
      "metadata": {
        "colab": {
          "base_uri": "https://localhost:8080/"
        },
        "id": "f6KXU20PlERC",
        "outputId": "59f636ff-6c9a-4d25-e2d5-b7f6a521459b"
      },
      "execution_count": null,
      "outputs": [
        {
          "output_type": "execute_result",
          "data": {
            "text/plain": [
              "Category\n",
              "Not treathed    54042\n",
              "Treathed          580\n",
              "Name: Speed, dtype: int64"
            ]
          },
          "metadata": {},
          "execution_count": 27
        }
      ]
    },
    {
      "cell_type": "code",
      "source": [
        "grouped_data.groupby('Category')['Speed'].mean()"
      ],
      "metadata": {
        "colab": {
          "base_uri": "https://localhost:8080/"
        },
        "id": "zezctaR-lUmU",
        "outputId": "3b5ce957-2d95-4fb7-9f3e-58ed08398dae"
      },
      "execution_count": null,
      "outputs": [
        {
          "output_type": "execute_result",
          "data": {
            "text/plain": [
              "Category\n",
              "Not treathed     67.89196\n",
              "Treathed        145.00000\n",
              "Name: Speed, dtype: float64"
            ]
          },
          "metadata": {},
          "execution_count": 28
        }
      ]
    },
    {
      "cell_type": "code",
      "source": [
        "sns.catplot(x='Category', y='Speed', data=grouped_data, kind='box')"
      ],
      "metadata": {
        "colab": {
          "base_uri": "https://localhost:8080/",
          "height": 524
        },
        "id": "xc_UAND6lfzh",
        "outputId": "dc0c0bf8-9b83-4a79-eca8-abf77eb2e248"
      },
      "execution_count": null,
      "outputs": [
        {
          "output_type": "execute_result",
          "data": {
            "text/plain": [
              "<seaborn.axisgrid.FacetGrid at 0x7c7e4bcbbee0>"
            ]
          },
          "metadata": {},
          "execution_count": 29
        },
        {
          "output_type": "display_data",
          "data": {
            "text/plain": [
              "<Figure size 511.111x500 with 1 Axes>"
            ],
            "image/png": "[encoded data removed]"
          },
          "metadata": {}
        }
      ]
    },
    {
      "cell_type": "code",
      "source": [
        "#Из условия задания мы ппредполагаем, что распределение скорости движения нормальное\n",
        "#Собираем статистику по средним bootstrap\n",
        "boot_ld3 = []\n",
        "for i in range(15):\n",
        "  boot_mean = grouped_data.sample(frac=1, replace=True).groupby('Category')['Speed'].mean()\n",
        "  boot_ld3.append(boot_mean)\n",
        "boot_ld3 = pd.DataFrame(boot_ld3)\n",
        "boot_ld3.plot(kind='density')"
      ],
      "metadata": {
        "colab": {
          "base_uri": "https://localhost:8080/",
          "height": 448
        },
        "id": "XfEPZg_hoXbO",
        "outputId": "c9708942-6752-4cc3-f42a-fbb014d7b9c1"
      },
      "execution_count": null,
      "outputs": [
        {
          "output_type": "execute_result",
          "data": {
            "text/plain": [
              "<Axes: ylabel='Density'>"
            ]
          },
          "metadata": {},
          "execution_count": 37
        },
        {
          "output_type": "display_data",
          "data": {
            "text/plain": [
              "<Figure size 640x480 with 1 Axes>"
            ],
            "image/png": "[encoded data removed]"
          },
          "metadata": {}
        }
      ]
    },
    {
      "cell_type": "code",
      "source": [
        "#Снова используем f-тест для проверки равенства дисперсий в этих двух группах\n",
        "stat3, p3 = f_test(boot_ld3['Not treathed'], boot_ld3['Treathed'])\n",
        "print(f\"Статистика = {stat3:.3f}, p = {p3:5f}\")\n",
        "if p3 > 0.05:\n",
        "  print('Не отклоняем нулевую гипотезу, дисперсии, вероятно, одинаковые')\n",
        "else:\n",
        "  print('Отклоняем нулевую гипотезу, дисперсии, вероятно, различаются')"
      ],
      "metadata": {
        "colab": {
          "base_uri": "https://localhost:8080/"
        },
        "id": "dyy5RmM6pkst",
        "outputId": "557c75e1-7042-4f69-abb7-81a09c8c46e9"
      },
      "execution_count": null,
      "outputs": [
        {
          "output_type": "stream",
          "name": "stdout",
          "text": [
            "Статистика = 0.100, p = 0.999945\n",
            "Не отклоняем нулевую гипотезу, дисперсии, вероятно, одинаковые\n"
          ]
        }
      ]
    },
    {
      "cell_type": "code",
      "source": [
        "stat3, p3 = st.ttest_ind(boot_ld3['Not treathed'], boot_ld3['Treathed'])\n",
        "print(f\"Статистика = {stat3:.3f}, p = {p3:5f}\")\n",
        "if p3 > 0.05:\n",
        "  print('Не отклоняем нулевую гипотезу, средние, вероятно, одинаковые')\n",
        "else:\n",
        "  print('Отклоняем нулевую гипотезу, средние, вероятно, различаются')\n",
        "\n",
        "#Вывод. Соворотка, скорее всего, действует"
      ],
      "metadata": {
        "colab": {
          "base_uri": "https://localhost:8080/"
        },
        "id": "-BWcPj7Er570",
        "outputId": "732b7acf-548d-4489-afed-821ca3950b6c"
      },
      "execution_count": null,
      "outputs": [
        {
          "output_type": "stream",
          "name": "stdout",
          "text": [
            "Статистика = -90.882, p = 0.000000\n",
            "Отклоняем нулевую гипотезу, средние, вероятно, различаются\n"
          ]
        }
      ]
    },
    {
      "cell_type": "code",
      "source": [
        "#Дополнительно выполним проверку односторонней гипотезы со следующими нулевой и альтернативной гипотезами:\n",
        "#H0 Treated > Not treated\n",
        "#H1 Treated < Not treated\n",
        "stat3, p3 = st.ttest_ind(boot_ld3['Treathed'], boot_ld3['Not treathed'], alternative='less')\n",
        "print(f\"Статистика = {stat3:.3f}, p = {p3:5f}\")\n",
        "if p3 > 0.05:\n",
        "  print('Не отклоняем нулевую гипотезу')\n",
        "else:\n",
        "  print('Отклоняем нулевую гипотезу')\n",
        "\n",
        "#Исходя из этого можно сделать вывод о том, что сыворотка действительно работает."
      ],
      "metadata": {
        "colab": {
          "base_uri": "https://localhost:8080/"
        },
        "id": "ERy7gjMs5zU1",
        "outputId": "bc9f58ac-2e72-41a4-cb7c-e2dc4f0add67"
      },
      "execution_count": null,
      "outputs": [
        {
          "output_type": "stream",
          "name": "stdout",
          "text": [
            "Статистика = 90.882, p = 1.000000\n",
            "Не отклоняем нулевую гипотезу\n"
          ]
        }
      ]
    },
    {
      "cell_type": "markdown",
      "source": [
        "<div class=\"alert alert-info\">\n",
        "<b>Задание № 4:</b>\n",
        "    \n",
        "Профессор Оук всегда любил истории про легендарных покемонов. Однако профессор не очень уверен, что они лучше остальных покемонов. Оук предложил разобраться в этом нам. Проверьте, действительно ли сумма характеристик `HP`,`Attack`,`Defense` у легендарных покемонов выше, чем у других покемонов?\n",
        "\n",
        "А произведение этих же параметров?\n",
        "\n",
        "Найдите ответы на эти вопросы и убедите всех в своём выводе статистически.\n",
        "   \n",
        "\n",
        "Вы можете предположить, что распределение сум и произведений этих параметров является нормальным для всех классов покемонов.\n",
        "\n",
        "</div>"
      ],
      "metadata": {
        "id": "itD_wEA_tb9d"
      }
    },
    {
      "cell_type": "code",
      "source": [
        "#Сумма HP, Attack, Defense\n",
        "sum_data = pokemon.copy()\n",
        "sum_data = sum_data.assign(Sum = lambda x: x['HP'] + x['Attack'] + x['Defense'])\n",
        "#Произведение HP, Attack, Defense\n",
        "mult_data = pokemon.copy()\n",
        "mult_data = mult_data.assign(Mult = lambda x: x['HP'] * x['Attack'] * x['Defense'])"
      ],
      "metadata": {
        "id": "heR0M5w53rpE"
      },
      "execution_count": null,
      "outputs": []
    },
    {
      "cell_type": "markdown",
      "source": [
        "Анализ суммы переменных"
      ],
      "metadata": {
        "id": "T6mKFTBV5R0D"
      }
    },
    {
      "cell_type": "code",
      "source": [
        "sum_data.groupby('Legendary').Legendary.count()"
      ],
      "metadata": {
        "colab": {
          "base_uri": "https://localhost:8080/"
        },
        "id": "LqCQ1TvHtlz3",
        "outputId": "c9a03f5e-b757-40a0-c284-2c49be8674a6"
      },
      "execution_count": null,
      "outputs": [
        {
          "output_type": "execute_result",
          "data": {
            "text/plain": [
              "Legendary\n",
              "False    735\n",
              "True      65\n",
              "Name: Legendary, dtype: int64"
            ]
          },
          "metadata": {},
          "execution_count": 44
        }
      ]
    },
    {
      "cell_type": "code",
      "source": [
        "sum_data.groupby('Legendary').Sum.sum()"
      ],
      "metadata": {
        "colab": {
          "base_uri": "https://localhost:8080/"
        },
        "id": "EEny_9w-2D1w",
        "outputId": "1019b907-35c8-4f00-c39a-efd5ca0a39d5"
      },
      "execution_count": null,
      "outputs": [
        {
          "output_type": "execute_result",
          "data": {
            "text/plain": [
              "Legendary\n",
              "False    157592\n",
              "True      20090\n",
              "Name: Sum, dtype: int64"
            ]
          },
          "metadata": {},
          "execution_count": 45
        }
      ]
    },
    {
      "cell_type": "code",
      "source": [
        "sum_data.groupby('Legendary').Sum.mean()"
      ],
      "metadata": {
        "colab": {
          "base_uri": "https://localhost:8080/"
        },
        "id": "EtqgV7lh2iUR",
        "outputId": "7aefb082-8b41-4b14-af31-92bbb2609aec"
      },
      "execution_count": null,
      "outputs": [
        {
          "output_type": "execute_result",
          "data": {
            "text/plain": [
              "Legendary\n",
              "False    214.410884\n",
              "True     309.076923\n",
              "Name: Sum, dtype: float64"
            ]
          },
          "metadata": {},
          "execution_count": 46
        }
      ]
    },
    {
      "cell_type": "code",
      "source": [
        "sum_data_leg = sum_data.loc[sum_data.Legendary == True].sample(n=65)\n",
        "sum_data_ord = sum_data.loc[sum_data.Legendary == False].sample(n=65)\n",
        "plt.hist(sum_data_leg['Sum'], bins=30, alpha=0.8, label='Легендарные покемоны')\n",
        "plt.hist(sum_data_ord['Sum'], bins=30, alpha=0.5, label='Обычные покемоны')\n",
        "plt.legend(loc='upper right')\n",
        "plt.show()"
      ],
      "metadata": {
        "colab": {
          "base_uri": "https://localhost:8080/",
          "height": 430
        },
        "id": "rUfTZ3GL2yhT",
        "outputId": "b240b93d-60dc-4ee0-e0cb-00606ce94909"
      },
      "execution_count": null,
      "outputs": [
        {
          "output_type": "display_data",
          "data": {
            "text/plain": [
              "<Figure size 640x480 with 1 Axes>"
            ],
            "image/png": "[encoded data removed]"
          },
          "metadata": {}
        }
      ]
    },
    {
      "cell_type": "code",
      "source": [
        "sns.catplot(x='Legendary', y='Sum', data=sum_data, kind='box')"
      ],
      "metadata": {
        "colab": {
          "base_uri": "https://localhost:8080/",
          "height": 524
        },
        "id": "-xv9n9l-_N-t",
        "outputId": "4d8a5459-7298-4701-b592-7d6bdf823593"
      },
      "execution_count": null,
      "outputs": [
        {
          "output_type": "execute_result",
          "data": {
            "text/plain": [
              "<seaborn.axisgrid.FacetGrid at 0x7c7e49ad75e0>"
            ]
          },
          "metadata": {},
          "execution_count": 48
        },
        {
          "output_type": "display_data",
          "data": {
            "text/plain": [
              "<Figure size 511.111x500 with 1 Axes>"
            ],
            "image/png": "[encoded data removed]"
          },
          "metadata": {}
        }
      ]
    },
    {
      "cell_type": "code",
      "source": [
        "# Применение Bootstrap\n",
        "boot_ld4 = []\n",
        "for i in range(100):\n",
        "  boot_mean = sum_data.sample(frac=1, replace=True).groupby('Legendary')['Sum'].mean()\n",
        "  boot_ld4.append(boot_mean)\n",
        "boot_ld4 = pd.DataFrame(boot_ld4)\n",
        "boot_ld4.plot(kind='density')"
      ],
      "metadata": {
        "colab": {
          "base_uri": "https://localhost:8080/",
          "height": 448
        },
        "id": "8sX1v3dc_mSG",
        "outputId": "4eb92a5a-1f6b-4f86-b521-39f742de25ed"
      },
      "execution_count": null,
      "outputs": [
        {
          "output_type": "execute_result",
          "data": {
            "text/plain": [
              "<Axes: ylabel='Density'>"
            ]
          },
          "metadata": {},
          "execution_count": 49
        },
        {
          "output_type": "display_data",
          "data": {
            "text/plain": [
              "<Figure size 640x480 with 1 Axes>"
            ],
            "image/png": "[encoded data removed]"
          },
          "metadata": {}
        }
      ]
    },
    {
      "cell_type": "code",
      "source": [
        "#Проверка равенства дисперсий\n",
        "stat4, p4 = f_test(boot_ld4[True], boot_ld4[False])\n",
        "print(f\"Статистика = {stat4:.3f}, p = {p4:5f}\")\n",
        "if p4 > 0.05:\n",
        "  print('Не отклоняем нулевую гипотезу, дисперсии, вероятно, одинаковые')\n",
        "else:\n",
        "  print('Отклоняем нулевую гипотезу, дисперсии, вероятно, различаются')"
      ],
      "metadata": {
        "colab": {
          "base_uri": "https://localhost:8080/"
        },
        "id": "5pM5P1qCBHvZ",
        "outputId": "a48f3b09-68e1-4fd8-f4c1-145c14e34110"
      },
      "execution_count": null,
      "outputs": [
        {
          "output_type": "stream",
          "name": "stdout",
          "text": [
            "Статистика = 4.690, p = 0.000000\n",
            "Отклоняем нулевую гипотезу, дисперсии, вероятно, различаются\n"
          ]
        }
      ]
    },
    {
      "cell_type": "code",
      "source": [
        "stat4, p4 = st.ttest_ind(boot_ld4[True], boot_ld4[False], equal_var=False)\n",
        "print(f\"Статистика = {stat4:.3f}, p = {p4:5f}\")\n",
        "if p4 > 0.05:\n",
        "  print('Не отклоняем нулевую гипотезу, среднее сумм, вероятно, одинаковые')\n",
        "else:\n",
        "  print('Отклоняем нулевую гипотезу, среднее сумм, вероятно, различаются')\n",
        "\n",
        "#Вывод. Существует статистически значимая разница сумм HP, Attack, Defend мужду 2 группами"
      ],
      "metadata": {
        "colab": {
          "base_uri": "https://localhost:8080/"
        },
        "id": "h4WBnu4JB4Qw",
        "outputId": "116f3a7b-311a-4543-ec84-abe3fdb66ec5"
      },
      "execution_count": null,
      "outputs": [
        {
          "output_type": "stream",
          "name": "stdout",
          "text": [
            "Статистика = 161.850, p = 0.000000\n",
            "Отклоняем нулевую гипотезу, среднее сумм, вероятно, различаются\n"
          ]
        }
      ]
    },
    {
      "cell_type": "code",
      "source": [
        "#Можно выполнить проверку односторонней гипотезы со следующими нулевой и альтернативной гипотезами:\n",
        "#H0 Sum(Legendary) > Sum(Ord)\n",
        "#H1 Sum(Legendary) < Sum(Ord)\n",
        "stat4, p4 = st.ttest_ind(boot_ld4[True], boot_ld4[False], equal_var=False, alternative='less')\n",
        "print(f\"Статистика = {stat4:.3f}, p = {p4:5f}\")\n",
        "if p4 > 0.05:\n",
        "  print('Не отклоняем нулевую гипотезу')\n",
        "else:\n",
        "  print('Отклоняем нулевую гипотезу')\n",
        "\n",
        "#Исходя из этого можно сделать вывод о том, что сумма HP, Attack, Defend у легендарны покемонов в среднем больше, чем у остальных"
      ],
      "metadata": {
        "colab": {
          "base_uri": "https://localhost:8080/"
        },
        "id": "3zHddjuS7B-n",
        "outputId": "917078c1-f31b-4232-dbea-ba5180fdb491"
      },
      "execution_count": null,
      "outputs": [
        {
          "output_type": "stream",
          "name": "stdout",
          "text": [
            "Статистика = 161.850, p = 1.000000\n",
            "Не отклоняем нулевую гипотезу\n"
          ]
        }
      ]
    },
    {
      "cell_type": "markdown",
      "source": [
        "Анализ произведения"
      ],
      "metadata": {
        "id": "2oUcybl2CltH"
      }
    },
    {
      "cell_type": "code",
      "source": [
        "mult_data.groupby('Legendary').Legendary.count()"
      ],
      "metadata": {
        "colab": {
          "base_uri": "https://localhost:8080/"
        },
        "id": "EAP5Hn6bCqQ7",
        "outputId": "7cff0a08-8c61-4284-f06a-150be7561811"
      },
      "execution_count": null,
      "outputs": [
        {
          "output_type": "execute_result",
          "data": {
            "text/plain": [
              "Legendary\n",
              "False    735\n",
              "True      65\n",
              "Name: Legendary, dtype: int64"
            ]
          },
          "metadata": {},
          "execution_count": 54
        }
      ]
    },
    {
      "cell_type": "code",
      "source": [
        "mult_data.groupby('Legendary').Mult.sum()"
      ],
      "metadata": {
        "colab": {
          "base_uri": "https://localhost:8080/"
        },
        "id": "-62ubvZpCvSr",
        "outputId": "a77cc0b4-0254-4d2b-a3b4-f0f23fad9736"
      },
      "execution_count": null,
      "outputs": [
        {
          "output_type": "execute_result",
          "data": {
            "text/plain": [
              "Legendary\n",
              "False    312405421\n",
              "True      70586205\n",
              "Name: Mult, dtype: int64"
            ]
          },
          "metadata": {},
          "execution_count": 55
        }
      ]
    },
    {
      "cell_type": "code",
      "source": [
        "mult_data.groupby('Legendary').Mult.mean()"
      ],
      "metadata": {
        "colab": {
          "base_uri": "https://localhost:8080/"
        },
        "id": "pS0u2zQGCybI",
        "outputId": "36e68328-4894-46c0-a0f9-654d947b393e"
      },
      "execution_count": null,
      "outputs": [
        {
          "output_type": "execute_result",
          "data": {
            "text/plain": [
              "Legendary\n",
              "False    4.250414e+05\n",
              "True     1.085942e+06\n",
              "Name: Mult, dtype: float64"
            ]
          },
          "metadata": {},
          "execution_count": 56
        }
      ]
    },
    {
      "cell_type": "code",
      "source": [
        "mult_data_leg = mult_data.loc[mult_data.Legendary == True].sample(n=65)\n",
        "mult_data_ord = mult_data.loc[mult_data.Legendary == False].sample(n=65)\n",
        "plt.hist(mult_data_leg['Mult'], bins=40, alpha=0.8, label='Легендарные покемоны')\n",
        "plt.hist(mult_data_ord['Mult'], bins=40, alpha=0.5, label='Обычные покемоны')\n",
        "plt.legend(loc='upper right')\n",
        "plt.show()"
      ],
      "metadata": {
        "colab": {
          "base_uri": "https://localhost:8080/",
          "height": 448
        },
        "id": "pRKx5E32C2H0",
        "outputId": "6790690f-1b34-416f-e704-f496b0941d4f"
      },
      "execution_count": null,
      "outputs": [
        {
          "output_type": "display_data",
          "data": {
            "text/plain": [
              "<Figure size 640x480 with 1 Axes>"
            ],
            "image/png": "[encoded data removed]"
          },
          "metadata": {}
        }
      ]
    },
    {
      "cell_type": "code",
      "source": [
        "sns.catplot(x='Legendary', y='Mult', data=mult_data, kind='box')"
      ],
      "metadata": {
        "colab": {
          "base_uri": "https://localhost:8080/",
          "height": 524
        },
        "id": "H-d-o0J8DSbA",
        "outputId": "97eb851e-f8f3-4cac-ea58-589fbdab5724"
      },
      "execution_count": null,
      "outputs": [
        {
          "output_type": "execute_result",
          "data": {
            "text/plain": [
              "<seaborn.axisgrid.FacetGrid at 0x7c7e4bcb9330>"
            ]
          },
          "metadata": {},
          "execution_count": 58
        },
        {
          "output_type": "display_data",
          "data": {
            "text/plain": [
              "<Figure size 511.111x500 with 1 Axes>"
            ],
            "image/png": "[encoded data removed]"
          },
          "metadata": {}
        }
      ]
    },
    {
      "cell_type": "code",
      "source": [
        "#Сбор статистики по средним произведений\n",
        "boot_ld42 = []\n",
        "for i in range(100):\n",
        "  boot_mean = mult_data.sample(frac=1, replace=True).groupby('Legendary')['Mult'].mean()\n",
        "  boot_ld42.append(boot_mean)\n",
        "boot_ld42 = pd.DataFrame(boot_ld42)\n",
        "boot_ld42.plot(kind='density')"
      ],
      "metadata": {
        "colab": {
          "base_uri": "https://localhost:8080/",
          "height": 481
        },
        "id": "Cjh18TglDuTy",
        "outputId": "c601e96f-6d1d-4f39-ea91-643dee6cb58a"
      },
      "execution_count": null,
      "outputs": [
        {
          "output_type": "execute_result",
          "data": {
            "text/plain": [
              "<Axes: ylabel='Density'>"
            ]
          },
          "metadata": {},
          "execution_count": 59
        },
        {
          "output_type": "display_data",
          "data": {
            "text/plain": [
              "<Figure size 640x480 with 1 Axes>"
            ],
            "image/png": "[encoded data removed]"
          },
          "metadata": {}
        }
      ]
    },
    {
      "cell_type": "code",
      "source": [
        "#Проверка равенства дисперсий\n",
        "stat4, p4 = f_test(boot_ld42[True], boot_ld42[False])\n",
        "print(f\"Статистика = {stat4:.3f}, p = {p4:5f}\")\n",
        "if p4 > 0.05:\n",
        "  print('Не отклоняем нулевую гипотезу, дисперсии, вероятно, одинаковые')\n",
        "else:\n",
        "  print('Отклоняем нулевую гипотезу, дисперсии, вероятно, различаются')"
      ],
      "metadata": {
        "colab": {
          "base_uri": "https://localhost:8080/"
        },
        "id": "glZ3waGZKm8C",
        "outputId": "381a2f72-b2ab-484f-da04-3142b091b39a"
      },
      "execution_count": null,
      "outputs": [
        {
          "output_type": "stream",
          "name": "stdout",
          "text": [
            "Статистика = 22.483, p = 0.000000\n",
            "Отклоняем нулевую гипотезу, дисперсии, вероятно, различаются\n"
          ]
        }
      ]
    },
    {
      "cell_type": "code",
      "source": [
        "stat4, p4 = st.ttest_ind(boot_ld42[True], boot_ld42[False], equal_var=False)\n",
        "print(f\"Статистика = {stat4:.3f}, p = {p4:5f}\")\n",
        "if p4 > 0.05:\n",
        "  print('Не отклоняем нулевую гипотезу, среднее произведений, вероятно, одинаковые')\n",
        "else:\n",
        "  print('Отклоняем нулевую гипотезу, средние произведений, вероятно, различаются')\n",
        "\n",
        "#Вывод. Существует статистически значимая разница произведений HP, Attack, Defend мужду 2 группами"
      ],
      "metadata": {
        "colab": {
          "base_uri": "https://localhost:8080/"
        },
        "id": "05VasroWK3Lh",
        "outputId": "5c2b09a8-f5f0-4f3f-ebc4-ff31660bd302"
      },
      "execution_count": null,
      "outputs": [
        {
          "output_type": "stream",
          "name": "stdout",
          "text": [
            "Статистика = 101.537, p = 0.000000\n",
            "Отклоняем нулевую гипотезу, средние произведений, вероятно, различаются\n"
          ]
        }
      ]
    },
    {
      "cell_type": "code",
      "source": [
        "#Можно выполнить проверку односторонней гипотезы со следующими нулевой и альтернативной гипотезами:\n",
        "#H0 Mult(Legendary) ≥ Mult(Ord)\n",
        "#H1 Mult(Legendary) < Mult(Ord)\n",
        "stat4, p4 = st.ttest_ind(boot_ld4[True], boot_ld4[False], equal_var=False, alternative='less')\n",
        "print(f\"Статистика = {stat4:.3f}, p = {p4:5f}\")\n",
        "if p4 > 0.05:\n",
        "  print('Не отклоняем нулевую гипотезу')\n",
        "else:\n",
        "  print('Отклоняем нулевую гипотезу')\n",
        "\n",
        "#Исходя из этого можно сделать вывод о том, что значения произведений HP, Attack, Defend у легендарны покемонов\n",
        "#также в среднем выше, чем у остальных"
      ],
      "metadata": {
        "colab": {
          "base_uri": "https://localhost:8080/"
        },
        "id": "GjRUQNu08IW7",
        "outputId": "d64826cc-2a4a-4203-b2d8-c7f60f4b3051"
      },
      "execution_count": null,
      "outputs": [
        {
          "output_type": "stream",
          "name": "stdout",
          "text": [
            "Статистика = 161.850, p = 1.000000\n",
            "Не отклоняем нулевую гипотезу\n"
          ]
        }
      ]
    },
    {
      "cell_type": "markdown",
      "source": [
        "<div class=\"alert alert-info\">\n",
        "<b>Задание № 5:</b>\n",
        "    \n",
        "Профессор Оук частенько наблюдает за боями покемонов. После очередных таких боёв Оук выделил четыре класса `best_defence_class`, которые на его взгляд одинаковы по \"силе обычной защиты\" `Defense`.\n",
        "\n",
        "Проверьте, действительно ли эти классы покемонов не отличаются по уровню защиты статистически значимо? Всё та же статистика вам в помощь!\n",
        "   \n",
        "\n",
        "Вы можете предположить, что распределение параметров защитных характеристик является нормальным для всех классов покемонов.\n",
        "\n",
        "</div>"
      ],
      "metadata": {
        "id": "CjYmFdPHMrw1"
      }
    },
    {
      "cell_type": "code",
      "source": [
        "best_defence_class = ['Rock', 'Ground', 'Steel', 'Ice']\n",
        "best_defence_class"
      ],
      "metadata": {
        "colab": {
          "base_uri": "https://localhost:8080/"
        },
        "id": "Y_QtOl9uMwLx",
        "outputId": "e774808e-82dd-439d-a491-2ca6fed3e181"
      },
      "execution_count": null,
      "outputs": [
        {
          "output_type": "execute_result",
          "data": {
            "text/plain": [
              "['Rock', 'Ground', 'Steel', 'Ice']"
            ]
          },
          "metadata": {},
          "execution_count": 64
        }
      ]
    },
    {
      "cell_type": "code",
      "source": [
        "#Нужно исключить из данных все те данные, которые могут совмещать в 2 классах те значения из списка\n",
        "data_to_delete = pokemon[(pokemon['Class 1'].isin(best_defence_class)) & (pokemon['Class 2'].isin(best_defence_class))]\n",
        "data_to_delete = data_to_delete.index + 1\n",
        "\n",
        "data5 = pokemon[(pokemon['Class 1'].isin(best_defence_class)) | (pokemon['Class 2'].isin(best_defence_class))]\n",
        "len(data5)"
      ],
      "metadata": {
        "colab": {
          "base_uri": "https://localhost:8080/"
        },
        "id": "RKR5pS9ONx0c",
        "outputId": "0bdd5493-08c5-4eb4-8b80-41f7bbc56bff"
      },
      "execution_count": null,
      "outputs": [
        {
          "output_type": "execute_result",
          "data": {
            "text/plain": [
              "189"
            ]
          },
          "metadata": {},
          "execution_count": 65
        }
      ]
    },
    {
      "cell_type": "code",
      "source": [
        "data5 = data5[~data5['pid'].isin(data_to_delete)]\n",
        "len(data5)"
      ],
      "metadata": {
        "colab": {
          "base_uri": "https://localhost:8080/"
        },
        "id": "__47jXb6QsQM",
        "outputId": "1f573153-6c8b-4ce9-80c3-722ae1070878"
      },
      "execution_count": null,
      "outputs": [
        {
          "output_type": "execute_result",
          "data": {
            "text/plain": [
              "166"
            ]
          },
          "metadata": {},
          "execution_count": 66
        }
      ]
    },
    {
      "cell_type": "code",
      "source": [
        "sorted_class_data = data5.copy()\n",
        "sorted_class_data['Class'] = sorted_class_data['Class 1'].apply(lambda x: x if x in best_defence_class else np.NaN)\n",
        "sorted_class_data['Class'] = sorted_class_data['Class'].fillna(sorted_class_data['Class 2'])\n",
        "sorted_class_data.head()"
      ],
      "metadata": {
        "colab": {
          "base_uri": "https://localhost:8080/",
          "height": 206
        },
        "id": "wEfLTeMQRMKZ",
        "outputId": "a1c9ddc6-856c-44b4-eadd-e2b94743fd3d"
      },
      "execution_count": null,
      "outputs": [
        {
          "output_type": "execute_result",
          "data": {
            "text/plain": [
              "    pid       Name Class 1 Class 2  HP  Attack  Defense  Sp. Atk  Sp. Def  \\\n",
              "32   33  Sandshrew  Ground     NaN  50      75       85       20       30   \n",
              "33   34  Sandslash  Ground     NaN  75     100      110       45       55   \n",
              "36   37  Nidoqueen  Poison  Ground  90      92       87       75       85   \n",
              "39   40   Nidoking  Poison  Ground  81     102       77       85       75   \n",
              "55   56    Diglett  Ground     NaN  10      55       25       35       45   \n",
              "\n",
              "    Speed  Legendary   Class  \n",
              "32     40      False  Ground  \n",
              "33     65      False  Ground  \n",
              "36     76      False  Ground  \n",
              "39     85      False  Ground  \n",
              "55     95      False  Ground  "
            ],
            "text/html": [
              "\n",
              "  <div id=\"df-2799db29-1f4f-4836-b91e-17b4aa06fae5\" class=\"colab-df-container\">\n",
              "    <div>\n",
              "<style scoped>\n",
              "    .dataframe tbody tr th:only-of-type {\n",
              "        vertical-align: middle;\n",
              "    }\n",
              "\n",
              "    .dataframe tbody tr th {\n",
              "        vertical-align: top;\n",
              "    }\n",
              "\n",
              "    .dataframe thead th {\n",
              "        text-align: right;\n",
              "    }\n",
              "</style>\n",
              "<table border=\"1\" class=\"dataframe\">\n",
              "  <thead>\n",
              "    <tr style=\"text-align: right;\">\n",
              "      <th></th>\n",
              "      <th>pid</th>\n",
              "      <th>Name</th>\n",
              "      <th>Class 1</th>\n",
              "      <th>Class 2</th>\n",
              "      <th>HP</th>\n",
              "      <th>Attack</th>\n",
              "      <th>Defense</th>\n",
              "      <th>Sp. Atk</th>\n",
              "      <th>Sp. Def</th>\n",
              "      <th>Speed</th>\n",
              "      <th>Legendary</th>\n",
              "      <th>Class</th>\n",
              "    </tr>\n",
              "  </thead>\n",
              "  <tbody>\n",
              "    <tr>\n",
              "      <th>32</th>\n",
              "      <td>33</td>\n",
              "      <td>Sandshrew</td>\n",
              "      <td>Ground</td>\n",
              "      <td>NaN</td>\n",
              "      <td>50</td>\n",
              "      <td>75</td>\n",
              "      <td>85</td>\n",
              "      <td>20</td>\n",
              "      <td>30</td>\n",
              "      <td>40</td>\n",
              "      <td>False</td>\n",
              "      <td>Ground</td>\n",
              "    </tr>\n",
              "    <tr>\n",
              "      <th>33</th>\n",
              "      <td>34</td>\n",
              "      <td>Sandslash</td>\n",
              "      <td>Ground</td>\n",
              "      <td>NaN</td>\n",
              "      <td>75</td>\n",
              "      <td>100</td>\n",
              "      <td>110</td>\n",
              "      <td>45</td>\n",
              "      <td>55</td>\n",
              "      <td>65</td>\n",
              "      <td>False</td>\n",
              "      <td>Ground</td>\n",
              "    </tr>\n",
              "    <tr>\n",
              "      <th>36</th>\n",
              "      <td>37</td>\n",
              "      <td>Nidoqueen</td>\n",
              "      <td>Poison</td>\n",
              "      <td>Ground</td>\n",
              "      <td>90</td>\n",
              "      <td>92</td>\n",
              "      <td>87</td>\n",
              "      <td>75</td>\n",
              "      <td>85</td>\n",
              "      <td>76</td>\n",
              "      <td>False</td>\n",
              "      <td>Ground</td>\n",
              "    </tr>\n",
              "    <tr>\n",
              "      <th>39</th>\n",
              "      <td>40</td>\n",
              "      <td>Nidoking</td>\n",
              "      <td>Poison</td>\n",
              "      <td>Ground</td>\n",
              "      <td>81</td>\n",
              "      <td>102</td>\n",
              "      <td>77</td>\n",
              "      <td>85</td>\n",
              "      <td>75</td>\n",
              "      <td>85</td>\n",
              "      <td>False</td>\n",
              "      <td>Ground</td>\n",
              "    </tr>\n",
              "    <tr>\n",
              "      <th>55</th>\n",
              "      <td>56</td>\n",
              "      <td>Diglett</td>\n",
              "      <td>Ground</td>\n",
              "      <td>NaN</td>\n",
              "      <td>10</td>\n",
              "      <td>55</td>\n",
              "      <td>25</td>\n",
              "      <td>35</td>\n",
              "      <td>45</td>\n",
              "      <td>95</td>\n",
              "      <td>False</td>\n",
              "      <td>Ground</td>\n",
              "    </tr>\n",
              "  </tbody>\n",
              "</table>\n",
              "</div>\n",
              "    <div class=\"colab-df-buttons\">\n",
              "\n",
              "  <div class=\"colab-df-container\">\n",
              "    <button class=\"colab-df-convert\" onclick=\"convertToInteractive('df-2799db29-1f4f-4836-b91e-17b4aa06fae5')\"\n",
              "            title=\"Convert this dataframe to an interactive table.\"\n",
              "            style=\"display:none;\">\n",
              "\n",
              "  <svg xmlns=\"http://www.w3.org/2000/svg\" height=\"24px\" viewBox=\"0 -960 960 960\">\n",
              "    <path d=\"M120-120v-720h720v720H120Zm60-500h600v-160H180v160Zm220 220h160v-160H400v160Zm0 220h160v-160H400v160ZM180-400h160v-160H180v160Zm440 0h160v-160H620v160ZM180-180h160v-160H180v160Zm440 0h160v-160H620v160Z\"/>\n",
              "  </svg>\n",
              "    </button>\n",
              "\n",
              "  <style>\n",
              "    .colab-df-container {\n",
              "      display:flex;\n",
              "      gap: 12px;\n",
              "    }\n",
              "\n",
              "    .colab-df-convert {\n",
              "      background-color: #E8F0FE;\n",
              "      border: none;\n",
              "      border-radius: 50%;\n",
              "      cursor: pointer;\n",
              "      display: none;\n",
              "      fill: #1967D2;\n",
              "      height: 32px;\n",
              "      padding: 0 0 0 0;\n",
              "      width: 32px;\n",
              "    }\n",
              "\n",
              "    .colab-df-convert:hover {\n",
              "      background-color: #E2EBFA;\n",
              "      box-shadow: 0px 1px 2px rgba(60, 64, 67, 0.3), 0px 1px 3px 1px rgba(60, 64, 67, 0.15);\n",
              "      fill: #174EA6;\n",
              "    }\n",
              "\n",
              "    .colab-df-buttons div {\n",
              "      margin-bottom: 4px;\n",
              "    }\n",
              "\n",
              "    [theme=dark] .colab-df-convert {\n",
              "      background-color: #3B4455;\n",
              "      fill: #D2E3FC;\n",
              "    }\n",
              "\n",
              "    [theme=dark] .colab-df-convert:hover {\n",
              "      background-color: #434B5C;\n",
              "      box-shadow: 0px 1px 3px 1px rgba(0, 0, 0, 0.15);\n",
              "      filter: drop-shadow(0px 1px 2px rgba(0, 0, 0, 0.3));\n",
              "      fill: #FFFFFF;\n",
              "    }\n",
              "  </style>\n",
              "\n",
              "    <script>\n",
              "      const buttonEl =\n",
              "        document.querySelector('#df-2799db29-1f4f-4836-b91e-17b4aa06fae5 button.colab-df-convert');\n",
              "      buttonEl.style.display =\n",
              "        google.colab.kernel.accessAllowed ? 'block' : 'none';\n",
              "\n",
              "      async function convertToInteractive(key) {\n",
              "        const element = document.querySelector('#df-2799db29-1f4f-4836-b91e-17b4aa06fae5');\n",
              "        const dataTable =\n",
              "          await google.colab.kernel.invokeFunction('convertToInteractive',\n",
              "                                                    [key], {});\n",
              "        if (!dataTable) return;\n",
              "\n",
              "        const docLinkHtml = 'Like what you see? Visit the ' +\n",
              "          '<a target=\"_blank\" href=https://colab.research.google.com/notebooks/data_table.ipynb>data table notebook</a>'\n",
              "          + ' to learn more about interactive tables.';\n",
              "        element.innerHTML = '';\n",
              "        dataTable['output_type'] = 'display_data';\n",
              "        await google.colab.output.renderOutput(dataTable, element);\n",
              "        const docLink = document.createElement('div');\n",
              "        docLink.innerHTML = docLinkHtml;\n",
              "        element.appendChild(docLink);\n",
              "      }\n",
              "    </script>\n",
              "  </div>\n",
              "\n",
              "\n",
              "<div id=\"df-586baf91-bcca-4f9b-9103-0766408bb2ee\">\n",
              "  <button class=\"colab-df-quickchart\" onclick=\"quickchart('df-586baf91-bcca-4f9b-9103-0766408bb2ee')\"\n",
              "            title=\"Suggest charts\"\n",
              "            style=\"display:none;\">\n",
              "\n",
              "<svg xmlns=\"http://www.w3.org/2000/svg\" height=\"24px\"viewBox=\"0 0 24 24\"\n",
              "     width=\"24px\">\n",
              "    <g>\n",
              "        <path d=\"M19 3H5c-1.1 0-2 .9-2 2v14c0 1.1.9 2 2 2h14c1.1 0 2-.9 2-2V5c0-1.1-.9-2-2-2zM9 17H7v-7h2v7zm4 0h-2V7h2v10zm4 0h-2v-4h2v4z\"/>\n",
              "    </g>\n",
              "</svg>\n",
              "  </button>\n",
              "\n",
              "<style>\n",
              "  .colab-df-quickchart {\n",
              "      --bg-color: #E8F0FE;\n",
              "      --fill-color: #1967D2;\n",
              "      --hover-bg-color: #E2EBFA;\n",
              "      --hover-fill-color: #174EA6;\n",
              "      --disabled-fill-color: #AAA;\n",
              "      --disabled-bg-color: #DDD;\n",
              "  }\n",
              "\n",
              "  [theme=dark] .colab-df-quickchart {\n",
              "      --bg-color: #3B4455;\n",
              "      --fill-color: #D2E3FC;\n",
              "      --hover-bg-color: #434B5C;\n",
              "      --hover-fill-color: #FFFFFF;\n",
              "      --disabled-bg-color: #3B4455;\n",
              "      --disabled-fill-color: #666;\n",
              "  }\n",
              "\n",
              "  .colab-df-quickchart {\n",
              "    background-color: var(--bg-color);\n",
              "    border: none;\n",
              "    border-radius: 50%;\n",
              "    cursor: pointer;\n",
              "    display: none;\n",
              "    fill: var(--fill-color);\n",
              "    height: 32px;\n",
              "    padding: 0;\n",
              "    width: 32px;\n",
              "  }\n",
              "\n",
              "  .colab-df-quickchart:hover {\n",
              "    background-color: var(--hover-bg-color);\n",
              "    box-shadow: 0 1px 2px rgba(60, 64, 67, 0.3), 0 1px 3px 1px rgba(60, 64, 67, 0.15);\n",
              "    fill: var(--button-hover-fill-color);\n",
              "  }\n",
              "\n",
              "  .colab-df-quickchart-complete:disabled,\n",
              "  .colab-df-quickchart-complete:disabled:hover {\n",
              "    background-color: var(--disabled-bg-color);\n",
              "    fill: var(--disabled-fill-color);\n",
              "    box-shadow: none;\n",
              "  }\n",
              "\n",
              "  .colab-df-spinner {\n",
              "    border: 2px solid var(--fill-color);\n",
              "    border-color: transparent;\n",
              "    border-bottom-color: var(--fill-color);\n",
              "    animation:\n",
              "      spin 1s steps(1) infinite;\n",
              "  }\n",
              "\n",
              "  @keyframes spin {\n",
              "    0% {\n",
              "      border-color: transparent;\n",
              "      border-bottom-color: var(--fill-color);\n",
              "      border-left-color: var(--fill-color);\n",
              "    }\n",
              "    20% {\n",
              "      border-color: transparent;\n",
              "      border-left-color: var(--fill-color);\n",
              "      border-top-color: var(--fill-color);\n",
              "    }\n",
              "    30% {\n",
              "      border-color: transparent;\n",
              "      border-left-color: var(--fill-color);\n",
              "      border-top-color: var(--fill-color);\n",
              "      border-right-color: var(--fill-color);\n",
              "    }\n",
              "    40% {\n",
              "      border-color: transparent;\n",
              "      border-right-color: var(--fill-color);\n",
              "      border-top-color: var(--fill-color);\n",
              "    }\n",
              "    60% {\n",
              "      border-color: transparent;\n",
              "      border-right-color: var(--fill-color);\n",
              "    }\n",
              "    80% {\n",
              "      border-color: transparent;\n",
              "      border-right-color: var(--fill-color);\n",
              "      border-bottom-color: var(--fill-color);\n",
              "    }\n",
              "    90% {\n",
              "      border-color: transparent;\n",
              "      border-bottom-color: var(--fill-color);\n",
              "    }\n",
              "  }\n",
              "</style>\n",
              "\n",
              "  <script>\n",
              "    async function quickchart(key) {\n",
              "      const quickchartButtonEl =\n",
              "        document.querySelector('#' + key + ' button');\n",
              "      quickchartButtonEl.disabled = true;  // To prevent multiple clicks.\n",
              "      quickchartButtonEl.classList.add('colab-df-spinner');\n",
              "      try {\n",
              "        const charts = await google.colab.kernel.invokeFunction(\n",
              "            'suggestCharts', [key], {});\n",
              "      } catch (error) {\n",
              "        console.error('Error during call to suggestCharts:', error);\n",
              "      }\n",
              "      quickchartButtonEl.classList.remove('colab-df-spinner');\n",
              "      quickchartButtonEl.classList.add('colab-df-quickchart-complete');\n",
              "    }\n",
              "    (() => {\n",
              "      let quickchartButtonEl =\n",
              "        document.querySelector('#df-586baf91-bcca-4f9b-9103-0766408bb2ee button');\n",
              "      quickchartButtonEl.style.display =\n",
              "        google.colab.kernel.accessAllowed ? 'block' : 'none';\n",
              "    })();\n",
              "  </script>\n",
              "</div>\n",
              "    </div>\n",
              "  </div>\n"
            ],
            "application/vnd.google.colaboratory.intrinsic+json": {
              "type": "dataframe",
              "variable_name": "sorted_class_data",
              "summary": "{\n  \"name\": \"sorted_class_data\",\n  \"rows\": 166,\n  \"fields\": [\n    {\n      \"column\": \"pid\",\n      \"properties\": {\n        \"dtype\": \"number\",\n        \"std\": 208,\n        \"min\": 33,\n        \"max\": 797,\n        \"num_unique_values\": 166,\n        \"samples\": [\n          512,\n          680,\n          425\n        ],\n        \"semantic_type\": \"\",\n        \"description\": \"\"\n      }\n    },\n    {\n      \"column\": \"Name\",\n      \"properties\": {\n        \"dtype\": \"string\",\n        \"num_unique_values\": 166,\n        \"samples\": [\n          \"Mega Abomasnow\",\n          \"Stunfisk\",\n          \"Primal Groudon\"\n        ],\n        \"semantic_type\": \"\",\n        \"description\": \"\"\n      }\n    },\n    {\n      \"column\": \"Class 1\",\n      \"properties\": {\n        \"dtype\": \"category\",\n        \"num_unique_values\": 14,\n        \"samples\": [\n          \"Steel\",\n          \"Dragon\",\n          \"Ground\"\n        ],\n        \"semantic_type\": \"\",\n        \"description\": \"\"\n      }\n    },\n    {\n      \"column\": \"Class 2\",\n      \"properties\": {\n        \"dtype\": \"category\",\n        \"num_unique_values\": 16,\n        \"samples\": [\n          \"Ground\",\n          \"Steel\",\n          \"Flying\"\n        ],\n        \"semantic_type\": \"\",\n        \"description\": \"\"\n      }\n    },\n    {\n      \"column\": \"HP\",\n      \"properties\": {\n        \"dtype\": \"number\",\n        \"std\": 22,\n        \"min\": 10,\n        \"max\": 130,\n        \"num_unique_values\": 47,\n        \"samples\": [\n          57,\n          44,\n          111\n        ],\n        \"semantic_type\": \"\",\n        \"description\": \"\"\n      }\n    },\n    {\n      \"column\": \"Attack\",\n      \"properties\": {\n        \"dtype\": \"number\",\n        \"std\": 33,\n        \"min\": 10,\n        \"max\": 180,\n        \"num_unique_values\": 60,\n        \"samples\": [\n          75,\n          80,\n          165\n        ],\n        \"semantic_type\": \"\",\n        \"description\": \"\"\n      }\n    },\n    {\n      \"column\": \"Defense\",\n      \"properties\": {\n        \"dtype\": \"number\",\n        \"std\": 36,\n        \"min\": 15,\n        \"max\": 230,\n        \"num_unique_values\": 54,\n        \"samples\": [\n          230,\n          129,\n          112\n        ],\n        \"semantic_type\": \"\",\n        \"description\": \"\"\n      }\n    },\n    {\n      \"column\": \"Sp. Atk\",\n      \"properties\": {\n        \"dtype\": \"number\",\n        \"std\": 32,\n        \"min\": 10,\n        \"max\": 170,\n        \"num_unique_values\": 52,\n        \"samples\": [\n          105,\n          74,\n          170\n        ],\n        \"semantic_type\": \"\",\n        \"description\": \"\"\n      }\n    },\n    {\n      \"column\": \"Sp. Def\",\n      \"properties\": {\n        \"dtype\": \"number\",\n        \"std\": 29,\n        \"min\": 25,\n        \"max\": 230,\n        \"num_unique_values\": 43,\n        \"samples\": [\n          77,\n          200,\n          150\n        ],\n        \"semantic_type\": \"\",\n        \"description\": \"\"\n      }\n    },\n    {\n      \"column\": \"Speed\",\n      \"properties\": {\n        \"dtype\": \"number\",\n        \"std\": 28,\n        \"min\": 5,\n        \"max\": 150,\n        \"num_unique_values\": 61,\n        \"samples\": [\n          40,\n          120,\n          69\n        ],\n        \"semantic_type\": \"\",\n        \"description\": \"\"\n      }\n    },\n    {\n      \"column\": \"Legendary\",\n      \"properties\": {\n        \"dtype\": \"boolean\",\n        \"num_unique_values\": 2,\n        \"samples\": [\n          true,\n          false\n        ],\n        \"semantic_type\": \"\",\n        \"description\": \"\"\n      }\n    },\n    {\n      \"column\": \"Class\",\n      \"properties\": {\n        \"dtype\": \"category\",\n        \"num_unique_values\": 4,\n        \"samples\": [\n          \"Steel\",\n          \"Rock\"\n        ],\n        \"semantic_type\": \"\",\n        \"description\": \"\"\n      }\n    }\n  ]\n}"
            }
          },
          "metadata": {},
          "execution_count": 67
        }
      ]
    },
    {
      "cell_type": "code",
      "source": [
        "sns.relplot(data=sorted_class_data, x=sorted_class_data['Class'], y=sorted_class_data['Defense'])"
      ],
      "metadata": {
        "colab": {
          "base_uri": "https://localhost:8080/",
          "height": 524
        },
        "id": "vkpEVY2OaDJM",
        "outputId": "eab48430-8042-41b0-d123-440743025093"
      },
      "execution_count": null,
      "outputs": [
        {
          "output_type": "execute_result",
          "data": {
            "text/plain": [
              "<seaborn.axisgrid.FacetGrid at 0x7c7e49b4eb90>"
            ]
          },
          "metadata": {},
          "execution_count": 68
        },
        {
          "output_type": "display_data",
          "data": {
            "text/plain": [
              "<Figure size 500x500 with 1 Axes>"
            ],
            "image/png": "[encoded data removed]"
          },
          "metadata": {}
        }
      ]
    },
    {
      "cell_type": "code",
      "source": [
        "sns.relplot(data=sorted_class_data, x=sorted_class_data['Class'], y=sorted_class_data['Defense'], kind = \"line\")\n",
        "\n",
        "#Графики показывают, что есть некоторая разница между средними значениями четырех групп.\n",
        "#Определим, является ли данная разница статистически значимой."
      ],
      "metadata": {
        "colab": {
          "base_uri": "https://localhost:8080/",
          "height": 525
        },
        "id": "wTxjiBtXaayt",
        "outputId": "017faa5e-c86c-46f9-9a14-a47db7c58397"
      },
      "execution_count": null,
      "outputs": [
        {
          "output_type": "execute_result",
          "data": {
            "text/plain": [
              "<seaborn.axisgrid.FacetGrid at 0x7c7e499b95a0>"
            ]
          },
          "metadata": {},
          "execution_count": 69
        },
        {
          "output_type": "display_data",
          "data": {
            "text/plain": [
              "<Figure size 500x500 with 1 Axes>"
            ],
            "image/png": "[encoded data removed]"
          },
          "metadata": {}
        }
      ]
    },
    {
      "cell_type": "code",
      "source": [
        "data_list = [sorted_class_data[sorted_class_data['Class'] == value]['Defense'] for value in best_defence_class]\n",
        "len(data_list)\n",
        "data_list[0]"
      ],
      "metadata": {
        "colab": {
          "base_uri": "https://localhost:8080/"
        },
        "id": "sd3DNAlmcXMp",
        "outputId": "73d446f4-eb66-4914-e789-fa8eff112e14"
      },
      "execution_count": null,
      "outputs": [
        {
          "output_type": "execute_result",
          "data": {
            "text/plain": [
              "149    100\n",
              "150    125\n",
              "151     90\n",
              "152    105\n",
              "153     65\n",
              "154     85\n",
              "200    115\n",
              "230    230\n",
              "237    120\n",
              "240     85\n",
              "267    110\n",
              "268    150\n",
              "323    135\n",
              "369     65\n",
              "370     85\n",
              "377     77\n",
              "378     97\n",
              "379     50\n",
              "380    100\n",
              "404    130\n",
              "414    200\n",
              "453     40\n",
              "454     60\n",
              "486     95\n",
              "583     85\n",
              "584    105\n",
              "585    130\n",
              "618     85\n",
              "619    125\n",
              "625    103\n",
              "626    133\n",
              "627     45\n",
              "628     65\n",
              "700     90\n",
              "758     67\n",
              "759    115\n",
              "766     77\n",
              "767    119\n",
              "773    150\n",
              "795    150\n",
              "796    110\n",
              "Name: Defense, dtype: int64"
            ]
          },
          "metadata": {},
          "execution_count": 70
        }
      ]
    },
    {
      "cell_type": "code",
      "source": [
        "#Исходя из условий задания. Распередление нормальное\n",
        "#Прежде чем переходить к дисперсионному анализу, проверим равенство вариаций\n",
        "stat5, p5 = st.levene(*data_list)\n",
        "\n",
        "print(f\"Статистика = {stat5:.5f}, p = {p5:.5f}\")\n",
        "\n",
        "if p5 < 0.05:\n",
        "    print(\"Отклоняем нулевую гипотезу >> Вариация в группах раличается\")\n",
        "else:\n",
        "    print(\"Не отклоняем нулевую гипотезу >> Вариация в группах одинаковая\")"
      ],
      "metadata": {
        "colab": {
          "base_uri": "https://localhost:8080/"
        },
        "id": "uahENXtPavwM",
        "outputId": "9e659e68-80f5-490c-f40d-c272fbc567ee"
      },
      "execution_count": null,
      "outputs": [
        {
          "output_type": "stream",
          "name": "stdout",
          "text": [
            "Статистика = 0.38822, p = 0.76164\n",
            "Не отклоняем нулевую гипотезу >> Вариация в группах одинаковая\n"
          ]
        }
      ]
    },
    {
      "cell_type": "code",
      "source": [
        "#Теперь используем однофакторный дисперсионный анализ\n",
        "f_val, p_val = st.f_oneway(*data_list)\n",
        "\n",
        "print(f\"Статистика = {f_val:.5f}, p = {p_val:.5f}\")\n",
        "\n",
        "if p_val > 0.05:\n",
        "    print('Не отклоняем нулевую гипотезу, средние, вероятно, одинаковые')\n",
        "else:\n",
        "    print('Отклоняем нулевую гипотезу, средние, вероятно, различаются')"
      ],
      "metadata": {
        "colab": {
          "base_uri": "https://localhost:8080/"
        },
        "id": "hG4tkMW2lyBi",
        "outputId": "725426d3-9023-44ec-a52a-80a2e339dc6b"
      },
      "execution_count": null,
      "outputs": [
        {
          "output_type": "stream",
          "name": "stdout",
          "text": [
            "Статистика = 8.82042, p = 0.00002\n",
            "Отклоняем нулевую гипотезу, средние, вероятно, различаются\n"
          ]
        }
      ]
    },
    {
      "cell_type": "code",
      "source": [
        "#Второй способ вычисления статистики\n",
        "from statsmodels.formula.api import ols\n",
        "import statsmodels.api as sm\n",
        "\n",
        "model = ols('Defense ~ Class',\n",
        "            data=sorted_class_data).fit()\n",
        "res = sm.stats.anova_lm(model, type=1)\n",
        "\n",
        "print(res)\n",
        "#p_val = 0.000019, что соотв пред расчетам"
      ],
      "metadata": {
        "colab": {
          "base_uri": "https://localhost:8080/"
        },
        "id": "VrEDmPsOmOjW",
        "outputId": "2f579009-a320-4259-9549-1d7d75a44bd4"
      },
      "execution_count": null,
      "outputs": [
        {
          "output_type": "stream",
          "name": "stdout",
          "text": [
            "             df         sum_sq       mean_sq         F    PR(>F)\n",
            "Class       3.0   30025.078102  10008.359367  8.820417  0.000019\n",
            "Residual  162.0  183818.319488   1134.680984       NaN       NaN\n"
          ]
        }
      ]
    },
    {
      "cell_type": "code",
      "source": [
        "print(str(model.summary()))"
      ],
      "metadata": {
        "colab": {
          "base_uri": "https://localhost:8080/"
        },
        "id": "LxSDmHmVm-Ss",
        "outputId": "c20e058f-8336-4348-a04e-a77563cdefce"
      },
      "execution_count": null,
      "outputs": [
        {
          "output_type": "stream",
          "name": "stdout",
          "text": [
            "                            OLS Regression Results                            \n",
            "==============================================================================\n",
            "Dep. Variable:                Defense   R-squared:                       0.140\n",
            "Model:                            OLS   Adj. R-squared:                  0.124\n",
            "Method:                 Least Squares   F-statistic:                     8.820\n",
            "Date:                Tue, 16 Apr 2024   Prob (F-statistic):           1.89e-05\n",
            "Time:                        03:28:14   Log-Likelihood:                -817.35\n",
            "No. Observations:                 166   AIC:                             1643.\n",
            "Df Residuals:                     162   BIC:                             1655.\n",
            "Df Model:                           3                                         \n",
            "Covariance Type:            nonrobust                                         \n",
            "==================================================================================\n",
            "                     coef    std err          t      P>|t|      [0.025      0.975]\n",
            "----------------------------------------------------------------------------------\n",
            "Intercept         81.0769      4.671     17.356      0.000      71.852      90.301\n",
            "Class[T.Ice]      -2.5618      7.497     -0.342      0.733     -17.366      12.243\n",
            "Class[T.Rock]     23.0206      7.035      3.272      0.001       9.128      36.913\n",
            "Class[T.Steel]    28.2481      7.084      3.987      0.000      14.259      42.238\n",
            "==============================================================================\n",
            "Omnibus:                       31.684   Durbin-Watson:                   1.813\n",
            "Prob(Omnibus):                  0.000   Jarque-Bera (JB):               53.146\n",
            "Skew:                           0.957   Prob(JB):                     2.88e-12\n",
            "Kurtosis:                       5.005   Cond. No.                         4.37\n",
            "==============================================================================\n",
            "\n",
            "Notes:\n",
            "[1] Standard Errors assume that the covariance matrix of the errors is correctly specified.\n"
          ]
        }
      ]
    },
    {
      "cell_type": "code",
      "source": [
        "#Обнаружив статистически значимый эффект нужно провести дополнительное исследование с учетом проблемы множественного сравнения.\n",
        "#Используем критерий Тьюки\n",
        "from statsmodels.stats.multicomp import pairwise_tukeyhsd\n",
        "\n",
        "tukey = pairwise_tukeyhsd(endog=sorted_class_data['Defense'].values,\n",
        "                          groups=sorted_class_data['Class'], alpha=0.05)\n",
        "print(tukey)"
      ],
      "metadata": {
        "colab": {
          "base_uri": "https://localhost:8080/"
        },
        "id": "G0PlXCtfnfut",
        "outputId": "e1ac72bd-32f9-4497-f61f-bc9f2dc61d44"
      },
      "execution_count": null,
      "outputs": [
        {
          "output_type": "stream",
          "name": "stdout",
          "text": [
            " Multiple Comparison of Means - Tukey HSD, FWER=0.05 \n",
            "=====================================================\n",
            "group1 group2 meandiff p-adj   lower    upper  reject\n",
            "-----------------------------------------------------\n",
            "Ground    Ice  -2.5618 0.9862 -22.0232 16.8997  False\n",
            "Ground   Rock  23.0206 0.0071   4.7576 41.2836   True\n",
            "Ground  Steel  28.2481 0.0006   9.8579 46.6383   True\n",
            "   Ice   Rock  25.5824 0.0077   5.1325 46.0323   True\n",
            "   Ice  Steel  30.8098 0.0008  10.2463 51.3734   True\n",
            "  Rock  Steel   5.2274 0.8976 -14.2058 24.6607  False\n",
            "-----------------------------------------------------\n"
          ]
        }
      ]
    },
    {
      "cell_type": "code",
      "source": [
        "tukey.plot_simultaneous(comparison_name=\"Rock\")\n",
        "\n",
        "#Вывод. Обнаружили, что линии Ground и Ice статистически отличаются от Rock и Steel,\n",
        "#что опровергает предположение профессора Оуки, что данные классы покемонов не отличаются по уровню защиты."
      ],
      "metadata": {
        "colab": {
          "base_uri": "https://localhost:8080/",
          "height": 1000
        },
        "id": "oFujBH4npIuF",
        "outputId": "54773fef-4dd3-4853-a542-1a7aef4a14ea"
      },
      "execution_count": null,
      "outputs": [
        {
          "output_type": "execute_result",
          "data": {
            "text/plain": [
              "<Figure size 1000x600 with 1 Axes>"
            ],
            "image/png": "[encoded data removed]"
          },
          "metadata": {},
          "execution_count": 76
        },
        {
          "output_type": "display_data",
          "data": {
            "text/plain": [
              "<Figure size 1000x600 with 1 Axes>"
            ],
            "image/png": "[encoded data removed]"
          },
          "metadata": {}
        }
      ]
    }
  ]
}