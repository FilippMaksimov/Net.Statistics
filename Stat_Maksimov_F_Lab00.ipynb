{
  "nbformat": 4,
  "nbformat_minor": 0,
  "metadata": {
    "colab": {
      "provenance": [],
      "authorship_tag": "ABX9TyM+iWM6HhCBdglN0o8GF4ov",
      "include_colab_link": true
    },
    "kernelspec": {
      "name": "python3",
      "display_name": "Python 3"
    },
    "language_info": {
      "name": "python"
    }
  },
  "cells": [
    {
      "cell_type": "markdown",
      "metadata": {
        "id": "view-in-github",
        "colab_type": "text"
      },
      "source": [
        "<a href=\"https://colab.research.google.com/github/FilippMaksimov/Net.Statistics/blob/main/Stat_Maksimov_F_Lab00.ipynb\" target=\"_parent\"><img src=\"https://colab.research.google.com/assets/colab-badge.svg\" alt=\"Open In Colab\"/></a>"
      ]
    },
    {
      "cell_type": "markdown",
      "source": [
        "Рассчет базовых статистик"
      ],
      "metadata": {
        "id": "XvP8HjC9TCKA"
      }
    },
    {
      "cell_type": "code",
      "source": [
        "import pandas as pd\n",
        "\n",
        "\n",
        "grades = [87, 80, 99, 90, 74, 100, 95, 90, 56, 95,\n",
        "          75, 5, 85, 78, 30, 77, 70, 59, 88, 100,\n",
        "          50, 69, 97, 96, 82, 21, 46, 93, 72, 95,\n",
        "          60, 91, 52, 27, 63, 66, 85, 59, 91, 76]\n",
        "\n",
        "\n",
        "sr = pd.Series(grades)\n",
        "\n",
        "\n",
        "min_ = sr.min()\n",
        "max_ = sr.max()\n",
        "range_ = max_ - min_\n",
        "disp = int(sr.var())\n",
        "mean = sr.mean()\n",
        "median = sr.median()\n",
        "mode = sr.mode()[0]\n",
        "print(min_, max_, range_, disp, mean, median, mode, sep='\\n')"
      ],
      "metadata": {
        "colab": {
          "base_uri": "https://localhost:8080/"
        },
        "id": "WAl-dsNhTDsJ",
        "outputId": "1eeba6b6-f853-4f67-9cb9-147f3eac17a5"
      },
      "execution_count": null,
      "outputs": [
        {
          "output_type": "stream",
          "name": "stdout",
          "text": [
            "5\n",
            "100\n",
            "95\n",
            "544\n",
            "73.1\n",
            "77.5\n",
            "95\n"
          ]
        }
      ]
    },
    {
      "cell_type": "markdown",
      "source": [
        "Поиск выбросов"
      ],
      "metadata": {
        "id": "OdrE6d7cU9eN"
      }
    },
    {
      "cell_type": "code",
      "source": [
        "import pandas as pd\n",
        "\n",
        "\n",
        "height = [154, 185, 170, 184, 175, 180, 187, 164, 178, 185,\n",
        "          157, 179, 183, 159, 178, 189, 172, 167, 163, 166,\n",
        "          156, 165, 181, 164, 171, 185, 171, 168, 161, 184,\n",
        "          178, 161, 184, 150, 168, 187, 175, 175, 174, 154,\n",
        "          180, 164, 163, 163, 165, 185, 161, 166, 163, 171,\n",
        "          163, 184, 160, 161, 155, 185, 152, 169, 178, 154,\n",
        "          188, 158, 177, 250, 190, 189, 163, 168, 158, 182,\n",
        "          165, 67, 166, 167, 188, 185, 182, 172, 162, 156,\n",
        "          175, 184, 171, 174, 153, 154, 151, 176, 179, 161,\n",
        "          175, 154, 167, 180, 186, 174, 188, 176, 160, 179]\n",
        "\n",
        "\n",
        "h = pd.Series(height)\n",
        "\n",
        "\n",
        "mean = h.mean()\n",
        "median = h.median()\n",
        "mode = h.mode()[0]\n",
        "iqr = h.quantile(0.75) - h.quantile(0.25)\n",
        "lower_bound = h.quantile(0.25) - 1.5 * iqr\n",
        "upper_bound = h.quantile(0.75) + 1.5 * iqr\n",
        "outliers = [el for el in h if el < lower_bound or el > upper_bound]\n",
        "\n",
        "\n",
        "print(mean, median, mode, iqr, outliers, sep='\\n')"
      ],
      "metadata": {
        "colab": {
          "base_uri": "https://localhost:8080/"
        },
        "id": "hLAVp4rpU9zH",
        "outputId": "dd5129f8-26c9-47b8-e026-3658f2051708"
      },
      "execution_count": null,
      "outputs": [
        {
          "output_type": "stream",
          "name": "stdout",
          "text": [
            "170.79\n",
            "171.0\n",
            "163\n",
            "17.5\n",
            "[250, 67]\n"
          ]
        }
      ]
    },
    {
      "cell_type": "markdown",
      "source": [
        "Теория вероятности"
      ],
      "metadata": {
        "id": "ctQvjFn8XRP6"
      }
    },
    {
      "cell_type": "markdown",
      "source": [
        "Условие задачи\n",
        "Требуется смоделировать игру против лотерейного автомата типа “777”.\n",
        "Игрок платит 1 руб., после чего выпадает случайное целое число,\n",
        "равномерно распределённое от 0 до 999 (np.random.randint).\n",
        "При некоторых значениях числа игрок получает выигрыш:\n",
        "777: 200 руб.\n",
        "999: 100 руб.\n",
        "555: 50 руб.\n",
        "333: 15 руб.\n",
        "111: 10 руб.\n",
        "x77: 5 руб.\n",
        "xx7: 3 руб.\n",
        "x00: 2 руб.\n",
        "xx0: 1 руб.\n",
        "где x – любая цифра.\n",
        "Задание: рассчитайте математическое ожидание суммы выигрыша.\n",
        "Результат круглите до пяти знаков после запятой."
      ],
      "metadata": {
        "id": "4kMf-dtfXZvH"
      }
    },
    {
      "cell_type": "code",
      "source": [
        "import numpy as np\n",
        "\n",
        "# trials - список из 1 млн. целых чисел от 0 до 999\n",
        "# генерируется отдельно в тестовом файле\n",
        "def monte_carlo(trials):\n",
        "    # словарь, содержащий выигрышные комбинации и сумму выигрыша\n",
        "    # случаи с * следует обработать в цикле с помощью\n",
        "    # операции взятия остатка от деления (%)\n",
        "    score = {\n",
        "        999: 100,\n",
        "        777: 200,\n",
        "        555: 50,\n",
        "        333: 15,\n",
        "        111: 10\n",
        "    }\n",
        "    # сумма выигрыша\n",
        "    balance = 0\n",
        "\n",
        "    for i in trials:\n",
        "        for k, v in score.items():\n",
        "            if i == k:\n",
        "                balance += v\n",
        "        if i not in score.keys():\n",
        "            if (i - 77) % 100 == 0:\n",
        "                balance += 5\n",
        "            elif (i - 7) % 10 == 0:\n",
        "                balance += 3\n",
        "            elif i % 100 == 0:\n",
        "                balance += 2\n",
        "            elif i % 10 == 0:\n",
        "                balance += 1\n",
        "\n",
        "    #Математическое ожидание можно рассчитать как сумму всех выигрышей, делённую на количество попыток.\n",
        "    res = round(balance / len(trials), 5)\n",
        "    return res\n",
        "\n",
        "if __name__ == '__main__':\n",
        "    np.random.seed(42)\n",
        "    trials = np.random.randint(0, 1000, 10000000)\n",
        "    print(monte_carlo(trials))"
      ],
      "metadata": {
        "colab": {
          "base_uri": "https://localhost:8080/"
        },
        "id": "GX6oYfAIZ94C",
        "outputId": "b905b4d6-c2a2-4212-b3b9-e55041de308b"
      },
      "execution_count": null,
      "outputs": [
        {
          "output_type": "execute_result",
          "data": {
            "text/plain": [
              "0"
            ]
          },
          "metadata": {},
          "execution_count": 18
        }
      ]
    },
    {
      "cell_type": "markdown",
      "source": [
        "Кореляция Пирсона и Спирмана"
      ],
      "metadata": {
        "id": "qD5nA1Hnf-0b"
      }
    },
    {
      "cell_type": "code",
      "source": [
        "import pandas as pd\n",
        "\n",
        "df = pd.read_csv('gas_sales_2.csv')\n",
        "\n",
        "#коэф. корреляции Пирсона:\n",
        "p_coef = df[['Temperature', 'Sum']].corr(method='pearson').iloc[0, 1]\n",
        "\n",
        "#коэф. корреляции Спирмана:\n",
        "s_coef = df[['Temperature', 'Sum']].corr(method='spearman').iloc[0, 1]\n",
        "\n",
        "#определение типа зависимости:\n",
        "if p_coef > 0:\n",
        "    print('Тип зависимости — положительная;')\n",
        "elif p_coef < 0:\n",
        "    print('Тип зависимости — отрицательная;')\n",
        "else:\n",
        "    print('Зависимость не обнаружена.')\n",
        "\n",
        "#определение силы связи\n",
        "if abs(p_coef) > 0 and abs(p_coef) <= 0.3:\n",
        "    print('Очень слабая зависимость')\n",
        "elif abs(p_coef) > 0.3 and abs(p_coef) <= 0.5:\n",
        "    print('Слабая зависимость')\n",
        "elif abs(p_coef) > 0.5 and abs(p_coef) <=0.7:\n",
        "    print('Средняя зависимость')\n",
        "elif abs(p_coef) > 0.7 and abs(p_coef) <=0.9:\n",
        "    print('Высокая зависимость')\n",
        "elif abs(p_coef) > 0.9 and abs(p_coef) <= 1:\n",
        "    print('Очень высокая зависимость')"
      ],
      "metadata": {
        "id": "Q6bDqD_ogLIF"
      },
      "execution_count": null,
      "outputs": []
    },
    {
      "cell_type": "markdown",
      "source": [
        "Определение размера выборки"
      ],
      "metadata": {
        "id": "9yjcDrmQaFV0"
      }
    },
    {
      "cell_type": "code",
      "source": [
        "#при нормальном распредлении\n",
        "import numpy as np\n",
        "from scipy import stats\n",
        "\n",
        "\n",
        "def sample(delta, sigsqr, conf):\n",
        "  z = stats.norm.ppf(1-(1-conf)/2)\n",
        "  n = int(np.ceil((np.sqrt(sigsqr) * z /delta)**2))\n",
        "  return n"
      ],
      "metadata": {
        "id": "L8asgJEEaV63"
      },
      "execution_count": null,
      "outputs": []
    },
    {
      "cell_type": "markdown",
      "source": [
        "Доверительный интервал для среднего значения — 2"
      ],
      "metadata": {
        "id": "OoEdDyGffREw"
      }
    },
    {
      "cell_type": "markdown",
      "source": [
        "Постройте доверительный интервал для среднего значения, если известны:\n",
        "\n",
        "объём выборки (n) от 30 до 50;\n",
        "среднее значение по выборке (x¯);\n",
        "стандартное отклонение (σ).\n",
        "В ответе укажите длину полученного доверительного интервала — разницу между правым и левым концом.\n",
        "\n",
        "Подсказка: при малом размере выборки предпочтительнее использовать t-распределение из модуля scipy."
      ],
      "metadata": {
        "id": "1AaeHqp5fR6x"
      }
    },
    {
      "cell_type": "code",
      "source": [
        "def interval(n, mean, sig, conf):\n",
        "  # h - точность интервальной оценки\n",
        "  h = sig * stats.norm.ppf((1+conf)/2) / np.sqrt(n)\n",
        "  return (mean + h) - (mean - h)"
      ],
      "metadata": {
        "id": "Rty7IG2nfWBn"
      },
      "execution_count": null,
      "outputs": []
    },
    {
      "cell_type": "markdown",
      "source": [
        "Проверка гипотез — 1"
      ],
      "metadata": {
        "id": "xPlEW2TRCRFL"
      }
    },
    {
      "cell_type": "markdown",
      "source": [
        "Профессор университета читал онлайн-лекции вместо очных занятий из-за Covid-19. Позже он загружал в облако записанные лекции для студентов, которые просматривали их в записи. Профессор считает, что учащиеся, которые посещают занятия в учебное время и участвуют в процессе, более успешны. Поэтому он записал средние оценки студентов в конце семестра, чтобы проверить эту гипотезу.\n",
        "\n",
        "С помощью статистического теста проверьте, является ли мнение профессора статистически значимым, используя уровень значимости 0,05 для оценки нулевой и альтернативной гипотез.\n",
        "\n",
        "В рамках задания считается, что данные распределены нормально, а вариация в группах одинаковая."
      ],
      "metadata": {
        "id": "rtCtQqtTCSwJ"
      }
    },
    {
      "cell_type": "code",
      "source": [
        "import numpy as np\n",
        "from scipy import stats\n",
        "\n",
        "sync = np.round(81 + 6 * np.random.standard_normal(22),1)\n",
        "asyncr = np.round(74 + 6 * np.random.standard_normal(14),1)\n",
        "\n",
        "# H0 - выборки не имеют стат. значимых различий\n",
        "# H1 - выборки имеют стат. значимые различия\n",
        "\n",
        "stat, p = stats.ttest_ind(sync, asyncr)\n",
        "if p < 0.05:\n",
        "  print(\"Отклоняем нулевую гипотезу\")\n",
        "else:\n",
        "  print(\"Не отклоняем нулевую гипотезу\")"
      ],
      "metadata": {
        "colab": {
          "base_uri": "https://localhost:8080/"
        },
        "id": "IddvDW5MCYo6",
        "outputId": "6b31f974-488d-4186-98c3-7bf35cb63423"
      },
      "execution_count": null,
      "outputs": [
        {
          "output_type": "stream",
          "name": "stdout",
          "text": [
            "Отклоняем нулевую гипотезу\n"
          ]
        }
      ]
    },
    {
      "cell_type": "markdown",
      "source": [
        "Проверка гипотез-3"
      ],
      "metadata": {
        "id": "3P_ptFb6CyAu"
      }
    },
    {
      "cell_type": "markdown",
      "source": [
        "Представьте, что вы хотите разоблачить волшебника, который считает, что умеет предсказывать погоду на завтра, отвечая просто: дождь или солнце. Вы понаблюдали за ответами волшебника в течение какого-то времени и получили результаты\n",
        "Можно ли сказать, что маг действительно умеет предсказывать погоду? Уровень значимости принимаем за 0.05."
      ],
      "metadata": {
        "id": "e84pZVL1C5DE"
      }
    },
    {
      "cell_type": "code",
      "source": [
        "import pandas as pd\n",
        "import numpy as np\n",
        "from scipy import stats\n",
        "\n",
        "d1 = np.random.choice(range(8,18),(1,2))\n",
        "d2 = np.random.choice(range(28,41),(1,2))\n",
        "data = np.concatenate((d1, d2), axis=0)\n",
        "\n",
        "observations = pd.DataFrame(data,\n",
        "                            index=['Дождь','Солнце'],\n",
        "                            columns=['Верные ответы волшебника','Неверные ответы'])\n",
        "\n",
        "# H0 - выборки не зависимы\n",
        "# H1 - выборки зависимы\n",
        "\n",
        "chi, p, dof, exp = stats.chi2_contingency(observations.values)\n",
        "if p < 0.05:\n",
        "    print('Отклоняем нулевую гипотезу. Есть некоторая зависимость')\n",
        "else:\n",
        "    print('Не отклоняем нулевую гипотезу. Выборки, вероятно, независимы')"
      ],
      "metadata": {
        "colab": {
          "base_uri": "https://localhost:8080/"
        },
        "id": "nzf5JYcvDRlT",
        "outputId": "0db92f99-0979-4f1f-8aac-99779e036b2e"
      },
      "execution_count": null,
      "outputs": [
        {
          "output_type": "stream",
          "name": "stdout",
          "text": [
            "Не отклоняем нулевую гипотезу. Выборки, вероятно, независимы\n"
          ]
        }
      ]
    }
  ]
}